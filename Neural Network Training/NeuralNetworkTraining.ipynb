{
 "cells": [
  {
   "cell_type": "code",
   "execution_count": 1,
   "id": "03c268f9",
   "metadata": {},
   "outputs": [],
   "source": [
    "import numpy as np\n",
    "import pandas as pd\n",
    "import matplotlib.pyplot as plt\n",
    "import pylab"
   ]
  },
  {
   "cell_type": "code",
   "execution_count": 52,
   "id": "6ced2509",
   "metadata": {},
   "outputs": [
    {
     "name": "stdout",
     "output_type": "stream",
     "text": [
      "     bias  age  sex  cp  trestbps  chol  fbs  restecg  thalach  exang  \\\n",
      "0       1   63    1   3       145   233    1        0      150      0   \n",
      "1       1   37    1   2       130   250    0        1      187      0   \n",
      "2       1   41    0   1       130   204    0        0      172      0   \n",
      "3       1   56    1   1       120   236    0        1      178      0   \n",
      "4       1   57    0   0       120   354    0        1      163      1   \n",
      "..    ...  ...  ...  ..       ...   ...  ...      ...      ...    ...   \n",
      "294     1   63    0   0       124   197    0        1      136      1   \n",
      "295     1   59    1   0       164   176    1        0       90      0   \n",
      "296     1   57    0   0       140   241    0        1      123      1   \n",
      "297     1   45    1   3       110   264    0        1      132      0   \n",
      "298     1   57    0   1       130   236    0        0      174      0   \n",
      "\n",
      "     oldpeak  slope  ca  thal  \n",
      "0        2.3      0   0     1  \n",
      "1        3.5      0   0     2  \n",
      "2        1.4      2   0     2  \n",
      "3        0.8      2   0     2  \n",
      "4        0.6      2   0     2  \n",
      "..       ...    ...  ..   ...  \n",
      "294      0.0      1   0     2  \n",
      "295      1.0      1   2     1  \n",
      "296      0.2      1   0     3  \n",
      "297      1.2      1   0     3  \n",
      "298      0.0      1   1     2  \n",
      "\n",
      "[299 rows x 14 columns]\n"
     ]
    }
   ],
   "source": [
    "dataset = pd.read_csv('heart.csv')\n",
    "y = dataset.values[:,13]\n",
    "y = np.array([y]).T\n",
    "dataset.drop('target', inplace=True, axis=1)\n",
    "dataset.insert(0, \"bias\", 1)\n",
    "X = dataset.values\n",
    "max1 = max(X[:,1])\n",
    "max2 = max(X[:,4])\n",
    "max3 = max(X[:,5])\n",
    "max4 = max(X[:,8])\n",
    "X[:,1] = X[:,1] / max1\n",
    "X[:,4] = X[:,4] / max2\n",
    "X[:,5] = X[:,5] / max3\n",
    "X[:,8] = X[:,8] / max4\n",
    "print(dataset)"
   ]
  },
  {
   "cell_type": "code",
   "execution_count": 3,
   "id": "5984cda3",
   "metadata": {},
   "outputs": [
    {
     "data": {
      "image/png": "[encoded data removed]",
      "text/plain": [
       "<Figure size 432x288 with 1 Axes>"
      ]
     },
     "metadata": {
      "needs_background": "light"
     },
     "output_type": "display_data"
    }
   ],
   "source": [
    "for i in range(len(y)):\n",
    "    if y[i] == 1:\n",
    "        c = 'k'\n",
    "    else:\n",
    "        c = 'g'\n",
    "    plt.scatter(X[i,5], X[i,8], color=c)\n",
    "plt.show()"
   ]
  },
  {
   "cell_type": "markdown",
   "id": "63d06c01",
   "metadata": {},
   "source": [
    "### In my neural network i will use only 1 hidden layer, in total count... 1 input layer, 1 hidden layer with 5 units and 1 output layer with one unit for this regression problem"
   ]
  },
  {
   "cell_type": "markdown",
   "id": "12f98c30",
   "metadata": {},
   "source": [
    "### We define our sigmoid function"
   ]
  },
  {
   "cell_type": "code",
   "execution_count": 40,
   "id": "8c4427b3",
   "metadata": {},
   "outputs": [],
   "source": [
    "def sigmoid(z):\n",
    "    return 1/(1 + np.exp(-z))"
   ]
  },
  {
   "cell_type": "markdown",
   "id": "e70aa597",
   "metadata": {},
   "source": [
    "### Create the sigmoid gradient function to make the back propagation"
   ]
  },
  {
   "cell_type": "code",
   "execution_count": 65,
   "id": "8f2c604a",
   "metadata": {},
   "outputs": [],
   "source": [
    "def sigmoidGradient(z):\n",
    "    return sigmoid(z) * (1-sigmoid(z))"
   ]
  },
  {
   "cell_type": "markdown",
   "id": "8df7e08c",
   "metadata": {},
   "source": [
    "### Define a function to get a random initialization of our weights"
   ]
  },
  {
   "cell_type": "code",
   "execution_count": 42,
   "id": "0153a4ec",
   "metadata": {},
   "outputs": [],
   "source": [
    "def randomWeights(layerIn, layerOut, epsilon=0.12):\n",
    "    matrix = np.random.rand(layerOut, layerIn + 1)\n",
    "    matrix = np.dot(matrix, (epsilon*2))\n",
    "    return matrix - epsilon"
   ]
  },
  {
   "cell_type": "markdown",
   "id": "50cb8051",
   "metadata": {},
   "source": [
    "### Build the cost function considering the steps of... Fordward propagation, Calculate the cost and the backpropagation with the sigmoid gradient and return an historial of J(Cost) and the parametes Theta"
   ]
  },
  {
   "cell_type": "code",
   "execution_count": 71,
   "id": "7b28305a",
   "metadata": {},
   "outputs": [],
   "source": [
    "# Dimensions:\n",
    "# X : 299 x 14\n",
    "# Theta1 : 5 x 14\n",
    "def costFunction(X, y, Theta1, Theta2):\n",
    "    m = len(y)\n",
    "    \n",
    "    # Fordward propagation\n",
    "    z2 = np.dot(X,Theta1.T)\n",
    "    a2 = sigmoid(z2)\n",
    "    a2 = np.insert(a2, 0, np.ones(m), axis=1)\n",
    "    z3 = np.dot(a2, Theta2.T)\n",
    "    a3 = sigmoid(z3)\n",
    "    hypotesisResult = a3\n",
    "    \n",
    "    # Cost function\n",
    "    step1 = np.dot(y.T,np.log(hypotesisResult))\n",
    "    step2 = np.dot((1-y.T),np.log(1-hypotesisResult))\n",
    "    J = (-1/m) * np.sum(step1) + step2\n",
    "    \n",
    "    # Backpropagation\n",
    "    delta3 = a3 - y\n",
    "    step1Delta2 = np.dot(delta3, Theta2)\n",
    "    step2Delta2 = np.insert(sigmoidGradient(z2), 0, np.ones(len(z2)), axis=1)\n",
    "    delta2 = step1Delta2 * step2Delta2\n",
    "    delta2 = np.delete(delta2, 0, 1)\n",
    "    Theta1 = (1/m) * np.dot(delta2.T, X)\n",
    "    Theta2 = (1/m) * np.dot(delta3.T, a2)\n",
    "    \n",
    "    return J, Theta1, Theta2"
   ]
  },
  {
   "cell_type": "code",
   "execution_count": 80,
   "id": "4eece708",
   "metadata": {},
   "outputs": [],
   "source": [
    "Theta1_init = randomWeights(13, 5)\n",
    "Theta2_init = randomWeights(5, 1)"
   ]
  },
  {
   "cell_type": "markdown",
   "id": "107ad758",
   "metadata": {},
   "source": [
    "### Define a function to train the parameters theta (Weights)"
   ]
  },
  {
   "cell_type": "code",
   "execution_count": 46,
   "id": "339e9584",
   "metadata": {},
   "outputs": [],
   "source": [
    "def training(X, y, Theta1, Theta2, iterations=30):\n",
    "    J_history = np.zeros(iterations)\n",
    "    m = len(y)\n",
    "    for it_fit in range(iterations):\n",
    "        J_history[it_fit], Theta1, Theta2 = costFunction(X, y, Theta1, Theta2)\n",
    "    return J_history, Theta1, Theta2"
   ]
  },
  {
   "cell_type": "code",
   "execution_count": 85,
   "id": "1f83d2ba",
   "metadata": {
    "scrolled": true
   },
   "outputs": [],
   "source": [
    "J_history, Theta1Fit, Theta2Fit = training(X, y, Theta1_init, Theta2_init, 5000)"
   ]
  },
  {
   "cell_type": "markdown",
   "id": "eafc7172",
   "metadata": {},
   "source": [
    "### And here, we make a diagnostic of our training plotting the Cost in function of (m) iterations and... as you can see, the cost reduce it value in each iteration but in a moment, it get stuck, this is a problem of High Bias or Underfit, to solve this problem we need to try a different possible solution like, collect more data, collect more feautures and etc"
   ]
  },
  {
   "cell_type": "code",
   "execution_count": 86,
   "id": "e5d4ebb0",
   "metadata": {},
   "outputs": [
    {
     "data": {
      "image/png": "[encoded data removed]",
      "text/plain": [
       "<Figure size 432x288 with 1 Axes>"
      ]
     },
     "metadata": {
      "needs_background": "light"
     },
     "output_type": "display_data"
    },
    {
     "name": "stdout",
     "output_type": "stream",
     "text": [
      "Last value of J: -78.62230522207156\n",
      "Best value of J: -102.94085323563961\n",
      "Position: 0\n"
     ]
    }
   ],
   "source": [
    "iterationsPlt = 5000\n",
    "plt.plot(np.arange(iterationsPlt)+1, J_history)\n",
    "pylab.xlabel(\"Iterations(m)\")\n",
    "pylab.ylabel(\"Cost function(J)\")\n",
    "plt.show()\n",
    "print(\"Last value of J: \" + str(J_history[iterationsPlt - 1]))\n",
    "print(\"Best value of J: \" + str(min(J_history)))\n",
    "print(\"Position: \" + str(np.argmin(J_history, axis=0)))"
   ]
  },
  {
   "cell_type": "code",
   "execution_count": 79,
   "id": "0238f658",
   "metadata": {},
   "outputs": [
    {
     "data": {
      "text/plain": [
       "(5, 14)"
      ]
     },
     "execution_count": 79,
     "metadata": {},
     "output_type": "execute_result"
    }
   ],
   "source": [
    "Theta1Fit.shape"
   ]
  },
  {
   "cell_type": "code",
   "execution_count": null,
   "id": "f2477b65",
   "metadata": {},
   "outputs": [],
   "source": []
  }
 ],
 "metadata": {
  "kernelspec": {
   "display_name": "Python 3",
   "language": "python",
   "name": "python3"
  },
  "language_info": {
   "codemirror_mode": {
    "name": "ipython",
    "version": 3
   },
   "file_extension": ".py",
   "mimetype": "text/x-python",
   "name": "python",
   "nbconvert_exporter": "python",
   "pygments_lexer": "ipython3",
   "version": "3.9.7"
  }
 },
 "nbformat": 4,
 "nbformat_minor": 5
}
