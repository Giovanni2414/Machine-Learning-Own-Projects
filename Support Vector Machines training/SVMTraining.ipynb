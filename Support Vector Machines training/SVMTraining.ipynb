{
 "cells": [
  {
   "cell_type": "code",
   "execution_count": 1,
   "id": "e2e7c791",
   "metadata": {},
   "outputs": [],
   "source": [
    "import pandas as pd\n",
    "import numpy as np\n",
    "import matplotlib.pyplot as plt\n",
    "import pylab"
   ]
  },
  {
   "cell_type": "code",
   "execution_count": 2,
   "id": "bbd6b8b3",
   "metadata": {},
   "outputs": [
    {
     "name": "stdout",
     "output_type": "stream",
     "text": [
      "     bias  age  sex  cp  trestbps  chol  fbs  restecg  thalach  exang  \\\n",
      "0       1   63    1   3       145   233    1        0      150      0   \n",
      "1       1   37    1   2       130   250    0        1      187      0   \n",
      "2       1   41    0   1       130   204    0        0      172      0   \n",
      "3       1   56    1   1       120   236    0        1      178      0   \n",
      "4       1   57    0   0       120   354    0        1      163      1   \n",
      "..    ...  ...  ...  ..       ...   ...  ...      ...      ...    ...   \n",
      "294     1   63    0   0       124   197    0        1      136      1   \n",
      "295     1   59    1   0       164   176    1        0       90      0   \n",
      "296     1   57    0   0       140   241    0        1      123      1   \n",
      "297     1   45    1   3       110   264    0        1      132      0   \n",
      "298     1   57    0   1       130   236    0        0      174      0   \n",
      "\n",
      "     oldpeak  slope  ca  thal  \n",
      "0        2.3      0   0     1  \n",
      "1        3.5      0   0     2  \n",
      "2        1.4      2   0     2  \n",
      "3        0.8      2   0     2  \n",
      "4        0.6      2   0     2  \n",
      "..       ...    ...  ..   ...  \n",
      "294      0.0      1   0     2  \n",
      "295      1.0      1   2     1  \n",
      "296      0.2      1   0     3  \n",
      "297      1.2      1   0     3  \n",
      "298      0.0      1   1     2  \n",
      "\n",
      "[299 rows x 14 columns]\n"
     ]
    }
   ],
   "source": [
    "dataset = pd.read_csv('heart.csv')\n",
    "y = dataset.values[:,13]\n",
    "y = np.array([y]).T\n",
    "dataset.drop('target', inplace=True, axis=1)\n",
    "dataset.insert(0, \"bias\", 1)\n",
    "X = dataset.values\n",
    "max1 = max(X[:,1])\n",
    "max2 = max(X[:,4])\n",
    "max3 = max(X[:,5])\n",
    "max4 = max(X[:,8])\n",
    "X[:,1] = X[:,1] / max1\n",
    "X[:,4] = X[:,4] / max2\n",
    "X[:,5] = X[:,5] / max3\n",
    "X[:,8] = X[:,8] / max4\n",
    "print(dataset)"
   ]
  },
  {
   "cell_type": "code",
   "execution_count": 3,
   "id": "ecbee266",
   "metadata": {},
   "outputs": [],
   "source": [
    "def cost1(X, y, theta):\n",
    "    z = np.dop(X, theta)\n",
    "    step1 = 1/(1 + np.exp(-z))\n",
    "    return (-y * np.log(step1))"
   ]
  },
  {
   "cell_type": "code",
   "execution_count": null,
   "id": "1ad333c1",
   "metadata": {},
   "outputs": [],
   "source": [
    "def cost0(X, y, theta):\n",
    "    z = np.dop(X, theta)\n",
    "    step1 = 1/(1 + np.exp(-z))\n",
    "    return (-y * np.log(step1))"
   ]
  }
 ],
 "metadata": {
  "kernelspec": {
   "display_name": "Python 3",
   "language": "python",
   "name": "python3"
  },
  "language_info": {
   "codemirror_mode": {
    "name": "ipython",
    "version": 3
   },
   "file_extension": ".py",
   "mimetype": "text/x-python",
   "name": "python",
   "nbconvert_exporter": "python",
   "pygments_lexer": "ipython3",
   "version": "3.8.8"
  }
 },
 "nbformat": 4,
 "nbformat_minor": 5
}
