{
 "cells": [
  {
   "cell_type": "code",
   "execution_count": 1,
   "metadata": {
    "id": "9PJiNx919-f7"
   },
   "outputs": [],
   "source": [
    "import cv2\n",
    "import matplotlib.pyplot as plt\n",
    "import pandas as pd\n",
    "import numpy as np\n",
    "import tensorflow as tf\n",
    "import os"
   ]
  },
  {
   "cell_type": "markdown",
   "metadata": {
    "id": "qO827Cqa9ARv"
   },
   "source": [
    "Let's define a function to load the dataset"
   ]
  },
  {
   "cell_type": "code",
   "execution_count": 2,
   "metadata": {
    "id": "5QnezyJT2bbx"
   },
   "outputs": [],
   "source": [
    "def load_img_dataset_train(datadir, categories):\n",
    "\n",
    "    datadir = datadir + \"train/\"\n",
    "    X = []\n",
    "    Y = []\n",
    "\n",
    "    for category in categories:\n",
    "        path = os.path.join(datadir, category)\n",
    "        class_number = categories.index(category)\n",
    "        for img in os.listdir(path):\n",
    "            img_array = cv2.imread(os.path.join(path, img), cv2.IMREAD_GRAYSCALE)\n",
    "            X.append(img_array)\n",
    "            Y.append(class_number)\n",
    "\n",
    "    return np.array(X), np.array(Y)"
   ]
  },
  {
   "cell_type": "code",
   "execution_count": 3,
   "metadata": {},
   "outputs": [],
   "source": [
    "def load_img_dataset_test(datadir, categories):\n",
    "\n",
    "    datadir = datadir + \"test/\"\n",
    "    X = []\n",
    "    Y = []\n",
    "\n",
    "    for category in categories:\n",
    "        path = os.path.join(datadir, category)\n",
    "        class_number = categories.index(category)\n",
    "        for img in os.listdir(path):\n",
    "            img_array = cv2.imread(os.path.join(path, img), cv2.IMREAD_GRAYSCALE)\n",
    "            X.append(img_array)\n",
    "            Y.append(class_number)\n",
    "\n",
    "    return np.array(X), np.array(Y)"
   ]
  },
  {
   "cell_type": "code",
   "execution_count": 32,
   "metadata": {
    "colab": {
     "base_uri": "https://localhost:8080/"
    },
    "id": "MCHNkoT468qG",
    "outputId": "e702fd9a-1d79-4900-aa5f-c014643d828a"
   },
   "outputs": [
    {
     "name": "stdout",
     "output_type": "stream",
     "text": [
      "(2400, 64, 64)\n",
      "(2400,)\n"
     ]
    }
   ],
   "source": [
    "categories = [\"other\", \"dog\"]\n",
    "datadir = \"ImgDataset/\"\n",
    "\n",
    "X_data, Y_data = load_img_dataset_train(datadir, categories)\n",
    "X_test, Y_test = load_img_dataset_test(datadir, categories)\n",
    "\n",
    "print(X_data.shape)\n",
    "print(Y_data.shape)"
   ]
  },
  {
   "cell_type": "code",
   "execution_count": 34,
   "metadata": {},
   "outputs": [
    {
     "name": "stdout",
     "output_type": "stream",
     "text": [
      "(2400, 64, 64, 1)\n",
      "¡Data ready!\n"
     ]
    }
   ],
   "source": [
    "X_data = np.expand_dims(X_data, axis=3)\n",
    "X_test = np.expand_dims(X_test, axis=3)\n",
    "print(X_temp.shape)\n",
    "print(\"¡Data ready!\")"
   ]
  },
  {
   "cell_type": "markdown",
   "metadata": {
    "id": "HNrjjnOD9EcJ"
   },
   "source": [
    "See some examples from the data to confirm that it have been loaded successfully"
   ]
  },
  {
   "cell_type": "code",
   "execution_count": 25,
   "metadata": {
    "colab": {
     "base_uri": "https://localhost:8080/",
     "height": 286
    },
    "id": "ji0DykGf47-t",
    "outputId": "1aa2ac35-d64c-4d1d-d93c-8d7c5b5788a7"
   },
   "outputs": [
    {
     "data": {
      "image/png": "[encoded data removed]",
      "text/plain": [
       "<Figure size 432x288 with 1 Axes>"
      ]
     },
     "metadata": {
      "needs_background": "light"
     },
     "output_type": "display_data"
    }
   ],
   "source": [
    "index = 1200\n",
    "\n",
    "plt.imshow(X_data[index], cmap='gray')\n",
    "plt.figtext(0.42, 0.01, \"Data label: \" + str(Y_data[index]))\n",
    "plt.show()"
   ]
  },
  {
   "cell_type": "markdown",
   "metadata": {
    "id": "ofgSMPYz9OQX"
   },
   "source": [
    "Split data into test set and train set, the development set will not be defined yet"
   ]
  },
  {
   "cell_type": "code",
   "execution_count": null,
   "metadata": {
    "id": "S3u9iO7l9N5U"
   },
   "outputs": [],
   "source": []
  },
  {
   "cell_type": "markdown",
   "metadata": {
    "id": "hCfITaaA9-gQ"
   },
   "source": [
    "Creating the model with Keras Layers"
   ]
  },
  {
   "cell_type": "code",
   "execution_count": 26,
   "metadata": {
    "id": "oz2t-Ijf9-gX"
   },
   "outputs": [],
   "source": [
    "def dog_classifier_model():\n",
    "    \"\"\"\n",
    "    Implements the forward propagation for the binary classification model:\n",
    "    ZEROPAD2D -> CONV2D -> BATCHNORM -> RELU -> MAXPOOL -> FLATTEN -> DENSE\n",
    "    \"\"\"\n",
    "    model = tf.keras.Sequential([\n",
    "        tf.keras.layers.ZeroPadding2D((0,0), input_shape=(64,64,1)),\n",
    "            ## Conv2D with 32 7x7 filters and stride of 1\n",
    "        tf.keras.layers.Conv2D(32, (7,7)),\n",
    "            ## BatchNormalization for axis 3\n",
    "        tf.keras.layers.BatchNormalization(axis=3),\n",
    "            ## ReLU\n",
    "        tf.keras.layers.ReLU(),\n",
    "            ## Max Pooling 2D with default parameters\n",
    "        tf.keras.layers.MaxPool2D(),\n",
    "            ## Flatten layer\n",
    "        tf.keras.layers.Flatten(),\n",
    "            ## Dense layer with 1 unit for output & 'sigmoid' activation\n",
    "        tf.keras.layers.Dense(1, activation=\"sigmoid\")\n",
    "            # YOUR CODE STARTS HERE\n",
    "            \n",
    "            \n",
    "            # YOUR CODE ENDS HERE\n",
    "    ])\n",
    "\n",
    "    return model"
   ]
  },
  {
   "cell_type": "markdown",
   "metadata": {
    "id": "oTEDiulh-J1U"
   },
   "source": [
    "Now compile the previous model with adam optimizer, binary loss and one metric that is accuracy"
   ]
  },
  {
   "cell_type": "code",
   "execution_count": 59,
   "metadata": {
    "id": "9rhT2o9N9-gc"
   },
   "outputs": [],
   "source": [
    "dog_model = dog_classifier_model()\n",
    "dog_model.compile(optimizer='adam',\n",
    "                        loss='binary_crossentropy',\n",
    "                        metrics=['accuracy']\n",
    "                    )"
   ]
  },
  {
   "cell_type": "markdown",
   "metadata": {
    "id": "Cu45nN0b-Q5b"
   },
   "source": [
    "See a fast summary to check the model, this time we have 28.577 of trainable parameters"
   ]
  },
  {
   "cell_type": "code",
   "execution_count": 60,
   "metadata": {
    "colab": {
     "base_uri": "https://localhost:8080/"
    },
    "id": "UvCIHEna9-gd",
    "outputId": "5519d9c5-54b6-4aa2-cb23-7a9d04e676c6"
   },
   "outputs": [
    {
     "name": "stdout",
     "output_type": "stream",
     "text": [
      "Model: \"sequential_3\"\n",
      "_________________________________________________________________\n",
      "Layer (type)                 Output Shape              Param #   \n",
      "=================================================================\n",
      "zero_padding2d_3 (ZeroPaddin (None, 64, 64, 1)         0         \n",
      "_________________________________________________________________\n",
      "conv2d_3 (Conv2D)            (None, 58, 58, 32)        1600      \n",
      "_________________________________________________________________\n",
      "batch_normalization_3 (Batch (None, 58, 58, 32)        128       \n",
      "_________________________________________________________________\n",
      "re_lu_3 (ReLU)               (None, 58, 58, 32)        0         \n",
      "_________________________________________________________________\n",
      "max_pooling2d_3 (MaxPooling2 (None, 29, 29, 32)        0         \n",
      "_________________________________________________________________\n",
      "flatten_3 (Flatten)          (None, 26912)             0         \n",
      "_________________________________________________________________\n",
      "dense_3 (Dense)              (None, 1)                 26913     \n",
      "=================================================================\n",
      "Total params: 28,641\n",
      "Trainable params: 28,577\n",
      "Non-trainable params: 64\n",
      "_________________________________________________________________\n"
     ]
    }
   ],
   "source": [
    "dog_model.summary()"
   ]
  },
  {
   "cell_type": "markdown",
   "metadata": {
    "id": "XN5rOC_m-Xg6"
   },
   "source": [
    "¡Train the model! :)"
   ]
  },
  {
   "cell_type": "code",
   "execution_count": 61,
   "metadata": {
    "colab": {
     "base_uri": "https://localhost:8080/"
    },
    "id": "IgqqcLW19-ge",
    "outputId": "4e9c3a15-1c91-454d-84f7-704ff5b65cda"
   },
   "outputs": [
    {
     "name": "stdout",
     "output_type": "stream",
     "text": [
      "Epoch 1/20\n",
      "75/75 [==============================] - 13s 167ms/step - loss: 1.1248 - accuracy: 0.5925\n",
      "Epoch 2/20\n",
      "75/75 [==============================] - 13s 173ms/step - loss: 0.8551 - accuracy: 0.6404\n",
      "Epoch 3/20\n",
      "75/75 [==============================] - 12s 164ms/step - loss: 0.6670 - accuracy: 0.7142\n",
      "Epoch 4/20\n",
      "75/75 [==============================] - 10s 138ms/step - loss: 0.4952 - accuracy: 0.7738\n",
      "Epoch 5/20\n",
      "75/75 [==============================] - 12s 155ms/step - loss: 0.5408 - accuracy: 0.7629s -\n",
      "Epoch 6/20\n",
      "75/75 [==============================] - 10s 136ms/step - loss: 0.4511 - accuracy: 0.8000\n",
      "Epoch 7/20\n",
      "75/75 [==============================] - 10s 136ms/step - loss: 0.3846 - accuracy: 0.8246\n",
      "Epoch 8/20\n",
      "75/75 [==============================] - 10s 137ms/step - loss: 0.3258 - accuracy: 0.8583\n",
      "Epoch 9/20\n",
      "75/75 [==============================] - 10s 138ms/step - loss: 0.2874 - accuracy: 0.8813\n",
      "Epoch 10/20\n",
      "75/75 [==============================] - 10s 130ms/step - loss: 0.2984 - accuracy: 0.8708\n",
      "Epoch 11/20\n",
      "75/75 [==============================] - 10s 129ms/step - loss: 0.2993 - accuracy: 0.8633\n",
      "Epoch 12/20\n",
      "75/75 [==============================] - 10s 129ms/step - loss: 0.2791 - accuracy: 0.8758\n",
      "Epoch 13/20\n",
      "75/75 [==============================] - 9s 126ms/step - loss: 0.1869 - accuracy: 0.9217\n",
      "Epoch 14/20\n",
      "75/75 [==============================] - 10s 129ms/step - loss: 0.1841 - accuracy: 0.9296\n",
      "Epoch 15/20\n",
      "75/75 [==============================] - 9s 126ms/step - loss: 0.2017 - accuracy: 0.9133\n",
      "Epoch 16/20\n",
      "75/75 [==============================] - 10s 128ms/step - loss: 0.1822 - accuracy: 0.9242\n",
      "Epoch 17/20\n",
      "75/75 [==============================] - 10s 127ms/step - loss: 0.1635 - accuracy: 0.9346\n",
      "Epoch 18/20\n",
      "75/75 [==============================] - 9s 126ms/step - loss: 0.0966 - accuracy: 0.9717\n",
      "Epoch 19/20\n",
      "75/75 [==============================] - 10s 127ms/step - loss: 0.0841 - accuracy: 0.9804\n",
      "Epoch 20/20\n",
      "75/75 [==============================] - 10s 127ms/step - loss: 0.0697 - accuracy: 0.9842\n"
     ]
    }
   ],
   "source": [
    "history = dog_model.fit(x=X_temp, y=Y_data, epochs=20, shuffle=True)"
   ]
  },
  {
   "cell_type": "markdown",
   "metadata": {
    "id": "IEhGUtOpAnOF"
   },
   "source": [
    "See the History"
   ]
  },
  {
   "cell_type": "code",
   "execution_count": 62,
   "metadata": {
    "colab": {
     "base_uri": "https://localhost:8080/",
     "height": 1000
    },
    "id": "DW-geqYiApyA",
    "outputId": "35e342f7-baa8-4549-df28-6db3d2bdc897"
   },
   "outputs": [
    {
     "name": "stderr",
     "output_type": "stream",
     "text": [
      "C:\\Users\\Giova\\AppData\\Local\\Programs\\Python\\Python39\\lib\\site-packages\\pandas\\core\\frame.py:5034: SettingWithCopyWarning: \n",
      "A value is trying to be set on a copy of a slice from a DataFrame\n",
      "\n",
      "See the caveats in the documentation: https://pandas.pydata.org/pandas-docs/stable/user_guide/indexing.html#returning-a-view-versus-a-copy\n",
      "  return super().rename(\n"
     ]
    },
    {
     "data": {
      "text/plain": [
       "[Text(0.5, 0, 'Epoch'), Text(0, 0.5, 'Accuracy')]"
      ]
     },
     "execution_count": 62,
     "metadata": {},
     "output_type": "execute_result"
    },
    {
     "data": {
      "image/png": "[encoded data removed]",
      "text/plain": [
       "<Figure size 864x576 with 1 Axes>"
      ]
     },
     "metadata": {
      "needs_background": "light"
     },
     "output_type": "display_data"
    },
    {
     "data": {
      "image/png": "[encoded data removed]",
      "text/plain": [
       "<Figure size 864x576 with 1 Axes>"
      ]
     },
     "metadata": {
      "needs_background": "light"
     },
     "output_type": "display_data"
    }
   ],
   "source": [
    "df_loss_acc = pd.DataFrame(history.history)\n",
    "df_loss= df_loss_acc[['loss']]\n",
    "df_loss.rename(columns={'loss':'train'},inplace=True)\n",
    "df_acc= df_loss_acc[['accuracy']]\n",
    "df_acc.rename(columns={'accuracy':'train'},inplace=True)\n",
    "df_loss.plot(title='Model loss',figsize=(12,8)).set(xlabel='Epoch',ylabel='Loss')\n",
    "df_acc.plot(title='Model Accuracy',figsize=(12,8)).set(xlabel='Epoch',ylabel='Accuracy')"
   ]
  },
  {
   "cell_type": "code",
   "execution_count": 63,
   "metadata": {
    "colab": {
     "base_uri": "https://localhost:8080/",
     "height": 297
    },
    "id": "mEe62xpw-dFA",
    "outputId": "40841079-bbcc-4825-d1d4-2b449435e51e"
   },
   "outputs": [
    {
     "data": {
      "image/png": "[encoded data removed]",
      "text/plain": [
       "<Figure size 432x288 with 1 Axes>"
      ]
     },
     "metadata": {
      "needs_background": "light"
     },
     "output_type": "display_data"
    }
   ],
   "source": [
    "index_predict = 210\n",
    "\n",
    "Y_hat = dog_model.predict(X_test)\n",
    "\n",
    "plt.imshow(np.squeeze(X_test[index_predict]), cmap='gray')\n",
    "plt.figtext(0.42, 0.01, \"Real label: \" + str(Y_test[index_predict]))\n",
    "plt.figtext(0.42, -0.03, \"Predicted label: \" + str(np.around(Y_hat[index_predict])))\n",
    "plt.show()"
   ]
  },
  {
   "cell_type": "code",
   "execution_count": 64,
   "metadata": {},
   "outputs": [
    {
     "name": "stdout",
     "output_type": "stream",
     "text": [
      "25/25 [==============================] - 1s 41ms/step - loss: 0.8545 - accuracy: 0.7513\n"
     ]
    }
   ],
   "source": [
    "eval_ = dog_model.evaluate(x=X_test, y=Y_test)"
   ]
  },
  {
   "cell_type": "code",
   "execution_count": null,
   "metadata": {},
   "outputs": [],
   "source": []
  }
 ],
 "metadata": {
  "colab": {
   "collapsed_sections": [],
   "name": "Dog_Recognizer_training.ipynb",
   "provenance": []
  },
  "interpreter": {
   "hash": "0202f5179cf55d049b8f961b0c4c1fc4bb09f1d1294b3f219ae02625271c9967"
  },
  "kernelspec": {
   "display_name": "Python 3",
   "language": "python",
   "name": "python3"
  },
  "language_info": {
   "codemirror_mode": {
    "name": "ipython",
    "version": 3
   },
   "file_extension": ".py",
   "mimetype": "text/x-python",
   "name": "python",
   "nbconvert_exporter": "python",
   "pygments_lexer": "ipython3",
   "version": "3.9.7"
  }
 },
 "nbformat": 4,
 "nbformat_minor": 1
}
