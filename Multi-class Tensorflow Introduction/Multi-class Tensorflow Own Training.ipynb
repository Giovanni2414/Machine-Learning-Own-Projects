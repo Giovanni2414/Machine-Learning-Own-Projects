{
 "cells": [
  {
   "cell_type": "code",
   "execution_count": 1,
   "id": "523e9ca6",
   "metadata": {},
   "outputs": [],
   "source": [
    "import cv2\n",
    "import matplotlib.pyplot as plt\n",
    "import pandas as pd\n",
    "import numpy as np\n",
    "import tensorflow as tf\n",
    "import os"
   ]
  },
  {
   "cell_type": "code",
   "execution_count": 2,
   "id": "9c5f1985",
   "metadata": {},
   "outputs": [
    {
     "name": "stdout",
     "output_type": "stream",
     "text": [
      "                image  label\n",
      "0  Img/img001-001.png      0\n",
      "1  Img/img001-002.png      0\n",
      "2  Img/img001-003.png      0\n",
      "3  Img/img001-004.png      0\n",
      "4  Img/img001-005.png      0\n",
      "(550, 2)\n"
     ]
    }
   ],
   "source": [
    "dt_labels = pd.read_csv('./Dataset/Labels.csv')\n",
    "print(dt_labels.head())\n",
    "print(dt_labels.shape)"
   ]
  },
  {
   "cell_type": "code",
   "execution_count": 17,
   "id": "722c730e",
   "metadata": {},
   "outputs": [
    {
     "name": "stdout",
     "output_type": "stream",
     "text": [
      "Loaded all images!\n",
      "(1080000, 550)\n",
      "All the training set it's ready\n"
     ]
    }
   ],
   "source": [
    "image_paths = dt_labels['image']\n",
    "images = []\n",
    "for filename in os.listdir(\"./Dataset/Img\"):\n",
    "    img = cv2.imread(os.path.join(\"./Dataset/Img\",filename), 0)\n",
    "    if img is not None:\n",
    "        images.append(img)\n",
    "print(\"Loaded all images!\")\n",
    "train_X = np.array(images)\n",
    "train_X = train_X.reshape(550, 900 * 1200)\n",
    "train_X = train_X.transpose()\n",
    "train_X = tf.math.divide(train_X, 255)\n",
    "print(train_X.shape)\n",
    "print(\"All the training set it's ready\")"
   ]
  },
  {
   "cell_type": "code",
   "execution_count": 14,
   "id": "8a176d4f",
   "metadata": {},
   "outputs": [],
   "source": [
    "def initialize_parameters(layers):\n",
    "    initializerHe = tf.keras.initializers.HeNormal(seed=1)\n",
    "    initializerGn = tf.keras.initializers.GlorotNormal(seed=1)\n",
    "    \n",
    "    for i in range(0, len(layers)-1):\n",
    "        W1 = tf.Variable(initializerHe(shape=(5, 13)))\n",
    "        b1 = tf.Variable(initializerHe(shape=(5, 1)))\n",
    "\n",
    "    \n",
    "    parameters = {\"W1\": W1,\n",
    "                  \"b1\": b1,\n",
    "                  \"W2\": W2,\n",
    "                  \"b2\": b2,\n",
    "                  \"W3\": W3,\n",
    "                  \"b3\": b3}\n",
    "    \n",
    "    return parameters"
   ]
  },
  {
   "cell_type": "code",
   "execution_count": 20,
   "id": "e462e852",
   "metadata": {},
   "outputs": [
    {
     "data": {
      "text/plain": [
       "<tf.Tensor: shape=(), dtype=float32, numpy=0.0>"
      ]
     },
     "execution_count": 20,
     "metadata": {},
     "output_type": "execute_result"
    }
   ],
   "source": []
  },
  {
   "cell_type": "code",
   "execution_count": 6,
   "id": "294c05d9",
   "metadata": {},
   "outputs": [
    {
     "data": {
      "text/plain": [
       "<matplotlib.image.AxesImage at 0x197b86aec10>"
      ]
     },
     "execution_count": 6,
     "metadata": {},
     "output_type": "execute_result"
    },
    {
     "data": {
      "image/png": "[encoded data removed]",
      "text/plain": [
       "<Figure size 432x288 with 1 Axes>"
      ]
     },
     "metadata": {
      "needs_background": "light"
     },
     "output_type": "display_data"
    }
   ],
   "source": [
    "temp4 = train_X[:,346]\n",
    "temp4 = temp4.reshape(900, 1200)\n",
    "plt.gray()\n",
    "plt.imshow(temp4)"
   ]
  },
  {
   "cell_type": "code",
   "execution_count": null,
   "id": "248ad0cc",
   "metadata": {},
   "outputs": [],
   "source": []
  }
 ],
 "metadata": {
  "kernelspec": {
   "display_name": "Python 3",
   "language": "python",
   "name": "python3"
  },
  "language_info": {
   "codemirror_mode": {
    "name": "ipython",
    "version": 3
   },
   "file_extension": ".py",
   "mimetype": "text/x-python",
   "name": "python",
   "nbconvert_exporter": "python",
   "pygments_lexer": "ipython3",
   "version": "3.9.7"
  }
 },
 "nbformat": 4,
 "nbformat_minor": 5
}
