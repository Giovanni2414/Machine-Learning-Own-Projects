{
 "cells": [
  {
   "cell_type": "code",
   "execution_count": 1,
   "id": "523e9ca6",
   "metadata": {},
   "outputs": [],
   "source": [
    "import cv2\n",
    "import matplotlib.pyplot as plt\n",
    "import pandas as pd\n",
    "import numpy as np\n",
    "import tensorflow as tf\n",
    "import os"
   ]
  },
  {
   "cell_type": "code",
   "execution_count": 2,
   "id": "9c5f1985",
   "metadata": {},
   "outputs": [
    {
     "name": "stdout",
     "output_type": "stream",
     "text": [
      "                image  label\n",
      "0  Img/img001-001.png      0\n",
      "1  Img/img001-002.png      0\n",
      "2  Img/img001-003.png      0\n",
      "3  Img/img001-004.png      0\n",
      "4  Img/img001-005.png      0\n",
      "(550, 2)\n"
     ]
    }
   ],
   "source": [
    "dt_labels = pd.read_csv('./Dataset/Labels.csv')\n",
    "print(dt_labels.head())\n",
    "print(dt_labels.shape)"
   ]
  },
  {
   "cell_type": "code",
   "execution_count": 17,
   "id": "722c730e",
   "metadata": {},
   "outputs": [
    {
     "name": "stdout",
     "output_type": "stream",
     "text": [
      "Loaded all images!\n",
      "(1080000, 550)\n",
      "All the training set it's ready\n"
     ]
    }
   ],
   "source": [
    "image_paths = dt_labels['image']\n",
    "images = []\n",
    "for filename in os.listdir(\"./Dataset/Img\"):\n",
    "    img = cv2.imread(os.path.join(\"./Dataset/Img\",filename), 0)\n",
    "    if img is not None:\n",
    "        images.append(img)\n",
    "print(\"Loaded all images!\")\n",
    "train_X = np.array(images)\n",
    "train_X = train_X.reshape(550, 900 * 1200)\n",
    "train_X = train_X.transpose()\n",
    "train_X = tf.math.divide(train_X, 255)\n",
    "print(train_X.shape)\n",
    "print(\"All the training set it's ready\")"
   ]
  },
  {
   "cell_type": "code",
   "execution_count": 69,
   "id": "545724be",
   "metadata": {},
   "outputs": [
    {
     "name": "stdout",
     "output_type": "stream",
     "text": [
      "tf.Tensor(\n",
      "[[1. 1. 1. ... 0. 0. 0.]\n",
      " [0. 0. 0. ... 0. 0. 0.]\n",
      " [0. 0. 0. ... 0. 0. 0.]\n",
      " ...\n",
      " [0. 0. 0. ... 0. 0. 0.]\n",
      " [0. 0. 0. ... 0. 0. 0.]\n",
      " [0. 0. 0. ... 0. 0. 0.]], shape=(9, 550), dtype=float32)\n"
     ]
    }
   ],
   "source": [
    "train_Y = tf.one_hot(dt_labels['label'], 9)\n",
    "train_Y = tf.transpose(train_Y)\n",
    "print(train_Y)"
   ]
  },
  {
   "cell_type": "code",
   "execution_count": 41,
   "id": "8a176d4f",
   "metadata": {},
   "outputs": [],
   "source": [
    "def initialize_parameters(layers):\n",
    "    # Define He Initializer for ReLu activations and GlorotNormal for last unit that will be a sigmoid activation\n",
    "    initializerHe = tf.keras.initializers.HeNormal(seed=1)\n",
    "    initializerGn = tf.keras.initializers.GlorotNormal(seed=1)\n",
    "    \n",
    "    parameters = {}\n",
    "    dims = len(layers) - 1\n",
    "    \n",
    "    for i in range(1, dims):\n",
    "        parameters[\"W\" + str(i)] = tf.Variable(initializerHe(shape=(layers[i], layers[i-1])))\n",
    "        parameters[\"b\" + str(i)] = tf.Variable(initializerHe(shape=(layers[i], 1)))\n",
    "\n",
    "    parameters[\"W\" + str(dims)] = tf.Variable(initializerGn(shape=(layers[dims], layers[dims-1])))\n",
    "    parameters[\"b\" + str(dims)] = tf.Variable(initializerGn(shape=(layers[dims], 1)))\n",
    "    \n",
    "    return parameters"
   ]
  },
  {
   "cell_type": "code",
   "execution_count": 61,
   "id": "305c1a0b",
   "metadata": {},
   "outputs": [
    {
     "name": "stdout",
     "output_type": "stream",
     "text": [
      "{'W1': <tf.Variable 'Variable:0' shape=(5, 1080000) dtype=float32, numpy=\n",
      "array([[ 0.09106225, -0.35448155,  0.4538295 , ...,  1.2204591 ,\n",
      "         0.699147  , -0.00436594],\n",
      "       [-0.8471499 ,  1.012885  ,  0.3756044 , ...,  0.69289434,\n",
      "        -0.01809851, -0.13605206],\n",
      "       [ 0.20540892, -1.1437447 ,  0.44322544, ..., -0.57866013,\n",
      "         0.22023813,  1.1401178 ],\n",
      "       [-0.5559414 , -0.43513256,  0.5033562 , ..., -0.14637862,\n",
      "        -0.41265413,  0.10542125],\n",
      "       [ 0.26351434,  0.5550274 ,  0.4324368 , ...,  0.2431362 ,\n",
      "        -0.30402425,  0.07822501]], dtype=float32)>, 'b1': <tf.Variable 'Variable:0' shape=(5, 1) dtype=float32, numpy=\n",
      "array([[ 0.09106225],\n",
      "       [-0.35448155],\n",
      "       [ 0.4538295 ],\n",
      "       [-0.56718487],\n",
      "       [-0.65419155]], dtype=float32)>, 'W2': <tf.Variable 'Variable:0' shape=(5, 5) dtype=float32, numpy=\n",
      "array([[ 0.09106225, -0.35448155,  0.4538295 , -0.56718487, -0.65419155],\n",
      "       [-0.28700176, -0.02740788,  0.33649984, -0.01077695, -1.0087425 ],\n",
      "       [ 1.2327179 , -0.99081975,  0.2690821 ,  0.49082014, -0.15483414],\n",
      "       [-0.3752376 , -0.11991914, -0.42358765, -0.00633099, -0.15455021],\n",
      "       [ 0.21040362,  0.04714971, -0.1295712 ,  0.84528124,  0.49225068]],\n",
      "      dtype=float32)>, 'b2': <tf.Variable 'Variable:0' shape=(5, 1) dtype=float32, numpy=\n",
      "array([[ 0.09106225],\n",
      "       [-0.35448155],\n",
      "       [ 0.4538295 ],\n",
      "       [-0.56718487],\n",
      "       [-0.65419155]], dtype=float32)>, 'W3': <tf.Variable 'Variable:0' shape=(9, 5) dtype=float32, numpy=\n",
      "array([[ 0.0544201 , -0.21184324,  0.271215  , -0.3389578 , -0.39095423],\n",
      "       [-0.17151634, -0.01637934,  0.2010971 , -0.00644046, -0.6028389 ],\n",
      "       [ 0.7366898 , -0.59212804,  0.16080731,  0.29332113, -0.09253109],\n",
      "       [-0.22424735, -0.07166539, -0.25314203, -0.00378349, -0.09236141],\n",
      "       [ 0.1257402 ,  0.02817734, -0.0774336 ,  0.5051521 ,  0.29417604],\n",
      "       [ 0.4482895 ,  0.10614368,  0.31632885,  0.01316046, -0.5699027 ],\n",
      "       [-0.07071426,  0.00867511,  0.23174125, -0.366766  , -0.1285739 ],\n",
      "       [-0.16956672, -0.45320302, -0.36794627, -0.25144774, -0.49223605],\n",
      "       [ 0.6973962 ,  0.06940699,  0.23311216,  0.6634115 ,  0.31096128]],\n",
      "      dtype=float32)>, 'b3': <tf.Variable 'Variable:0' shape=(9, 1) dtype=float32, numpy=\n",
      "array([[ 0.06439073],\n",
      "       [-0.2506563 ],\n",
      "       [ 0.32090592],\n",
      "       [-0.40106028],\n",
      "       [-0.46258327],\n",
      "       [-0.20294088],\n",
      "       [-0.0193803 ],\n",
      "       [ 0.23794131],\n",
      "       [-0.00762046]], dtype=float32)>}\n"
     ]
    }
   ],
   "source": [
    "layers = [1080000, 5, 5, 9]\n",
    "parameters = initialize_parameters(layers)\n",
    "print(parameters)"
   ]
  },
  {
   "cell_type": "code",
   "execution_count": 46,
   "id": "2519a6c1",
   "metadata": {},
   "outputs": [],
   "source": [
    "def forward_propagation(X, parameters, layers):\n",
    "    dims = len(layers) - 1\n",
    "    \n",
    "    W1 = parameters[\"W1\"]\n",
    "    b1 = parameters[\"b1\"]\n",
    "    Z_temp = tf.math.add(tf.linalg.matmul(W1,X), b1)\n",
    "    A_temp = tf.keras.activations.relu(Z_temp)\n",
    "    \n",
    "    for i in range(2, dims):\n",
    "        Z_temp = tf.math.add(tf.linalg.matmul(parameters[\"W\" + str(i)],A_temp), parameters[\"b\" + str(i)])\n",
    "        A_temp = tf.keras.activations.relu(Z_temp)\n",
    "        \n",
    "    Z_temp = tf.math.add(tf.linalg.matmul(parameters[\"W\" + str(dims)],A_temp), parameters[\"b\" + str(dims)])\n",
    "    A_temp = tf.keras.activations.sigmoid(Z_temp)\n",
    "\n",
    "    return Z_temp"
   ]
  },
  {
   "cell_type": "code",
   "execution_count": 62,
   "id": "8a441aca",
   "metadata": {},
   "outputs": [
    {
     "name": "stdout",
     "output_type": "stream",
     "text": [
      "tf.Tensor(\n",
      "[[  40.548943    43.233776     7.8712244 ...   37.635017    76.63883\n",
      "    97.82137  ]\n",
      " [  11.936734    17.915277    -8.5934105 ...   10.112913    31.435892\n",
      "    39.719193 ]\n",
      " [  83.68943     71.97598     52.056187  ...   80.84569    119.83012\n",
      "   110.68248  ]\n",
      " ...\n",
      " [  31.849731    32.246807     9.63714   ...   29.866707    57.62793\n",
      "    88.92243  ]\n",
      " [-114.09012    -86.428345   -94.41898   ... -112.28903   -139.75758\n",
      "  -201.54044  ]\n",
      " [ 133.1901      98.17475    116.12601   ...  131.61003    152.89886\n",
      "   164.45055  ]], shape=(9, 550), dtype=float32)\n"
     ]
    }
   ],
   "source": [
    "print(forward_propagation(train_X, parameters, layers))"
   ]
  },
  {
   "cell_type": "code",
   "execution_count": 93,
   "id": "3bb96946",
   "metadata": {},
   "outputs": [],
   "source": [
    "def compute_cost(y_true, y_pred):\n",
    "    y_pred = tf.transpose(y_pred)\n",
    "    y_true = tf.reshape(tf.transpose(y_true),[y_pred.shape[0],9])\n",
    "    cost =  tf.reduce_mean(tf.keras.losses.categorical_crossentropy(y_true, y_pred,from_logits=True))\n",
    "    return cost"
   ]
  },
  {
   "cell_type": "code",
   "execution_count": 91,
   "id": "094fcaab",
   "metadata": {},
   "outputs": [],
   "source": [
    "def model(X_train, Y_train, learning_rate = 0.0001, num_epochs = 1500, layers = [1], print_cost = True):\n",
    "    \n",
    "    # Save all the costs around the training\n",
    "    costs = []\n",
    "    \n",
    "    # Initialize the parameters\n",
    "    parameters = initialize_parameters(layers)\n",
    "    trainable_variables = []\n",
    "    for i in range(1, len(layers)-1):\n",
    "        trainable_variables.append(parameters[\"W\" + str(i)])\n",
    "        trainable_variables.append(parameters[\"b\" + str(i)])\n",
    "    # print(trainable_variables)\n",
    "    \n",
    "    # I want to use the Adam optimizer in my model, in my experience, it's very efficient\n",
    "    optimizer = tf.keras.optimizers.Adam(learning_rate)\n",
    "    for epoch in range(num_epochs):\n",
    "        with tf.GradientTape() as tape:\n",
    "            # Do the fordward propagation\n",
    "            Z3 = forward_propagation(X_train, parameters, layers)\n",
    "\n",
    "            # Compute the cost function\n",
    "            cost = compute_cost(Y_train, Z3)\n",
    "\n",
    "        grads = tape.gradient(cost, trainable_variables)\n",
    "        optimizer.apply_gradients(zip(grads, trainable_variables))\n",
    "\n",
    "        if print_cost == True and epoch % 10 == 0:\n",
    "            print (\"Cost after epoch %i: %f\" % (epoch, cost))\n",
    "\n",
    "        costs.append(cost)\n",
    "    \n",
    "    return parameters, costs"
   ]
  },
  {
   "cell_type": "code",
   "execution_count": null,
   "id": "6ad72af3",
   "metadata": {},
   "outputs": [
    {
     "name": "stdout",
     "output_type": "stream",
     "text": [
      "Cost after epoch 0: 364.527740\n"
     ]
    }
   ],
   "source": [
    "num_epochsTrain = 100\n",
    "parameters, costs = model(train_X, train_Y, learning_rate = 0.0001, layers=[1080000, 25, 10, 5, 9], num_epochs = num_epochsTrain)\n",
    "plt.plot(np.arange(num_epochsTrain)+1, costs)\n",
    "plt.xlabel(\"Iterations(m)\")\n",
    "plt.ylabel(\"Cost function(J)\")\n",
    "plt.show()"
   ]
  },
  {
   "cell_type": "code",
   "execution_count": 6,
   "id": "294c05d9",
   "metadata": {},
   "outputs": [
    {
     "data": {
      "text/plain": [
       "<matplotlib.image.AxesImage at 0x197b86aec10>"
      ]
     },
     "execution_count": 6,
     "metadata": {},
     "output_type": "execute_result"
    },
    {
     "data": {
      "image/png": "[encoded data removed]",
      "text/plain": [
       "<Figure size 432x288 with 1 Axes>"
      ]
     },
     "metadata": {
      "needs_background": "light"
     },
     "output_type": "display_data"
    }
   ],
   "source": [
    "temp4 = train_X[:,346]\n",
    "temp4 = temp4.reshape(900, 1200)\n",
    "plt.gray()\n",
    "plt.imshow(temp4)"
   ]
  },
  {
   "cell_type": "code",
   "execution_count": null,
   "id": "248ad0cc",
   "metadata": {},
   "outputs": [],
   "source": []
  }
 ],
 "metadata": {
  "kernelspec": {
   "display_name": "Python 3",
   "language": "python",
   "name": "python3"
  },
  "language_info": {
   "codemirror_mode": {
    "name": "ipython",
    "version": 3
   },
   "file_extension": ".py",
   "mimetype": "text/x-python",
   "name": "python",
   "nbconvert_exporter": "python",
   "pygments_lexer": "ipython3",
   "version": "3.9.7"
  }
 },
 "nbformat": 4,
 "nbformat_minor": 5
}
