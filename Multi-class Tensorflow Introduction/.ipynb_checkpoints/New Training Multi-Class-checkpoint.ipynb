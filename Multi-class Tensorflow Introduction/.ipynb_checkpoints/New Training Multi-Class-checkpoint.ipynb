{
 "cells": [
  {
   "cell_type": "code",
   "execution_count": 1,
   "id": "f237ba5b",
   "metadata": {},
   "outputs": [],
   "source": [
    "import cv2\n",
    "import matplotlib.pyplot as plt\n",
    "import pandas as pd\n",
    "import numpy as np\n",
    "import tensorflow as tf\n",
    "import os"
   ]
  },
  {
   "cell_type": "code",
   "execution_count": 2,
   "id": "5d229d6a",
   "metadata": {},
   "outputs": [
    {
     "name": "stdout",
     "output_type": "stream",
     "text": [
      "                image  label\n",
      "0  Img/img001-001.png      0\n",
      "1  Img/img001-002.png      0\n",
      "2  Img/img001-003.png      0\n",
      "3  Img/img001-004.png      0\n",
      "4  Img/img001-005.png      0\n",
      "(550, 2)\n"
     ]
    }
   ],
   "source": [
    "dt_labels = pd.read_csv('./Dataset/Labels.csv')\n",
    "print(dt_labels.head())\n",
    "print(dt_labels.shape)"
   ]
  },
  {
   "cell_type": "code",
   "execution_count": 4,
   "id": "d5e31010",
   "metadata": {},
   "outputs": [
    {
     "name": "stdout",
     "output_type": "stream",
     "text": [
      "Loaded all images!\n",
      "(1080000, 550)\n",
      "All the training set it's ready\n"
     ]
    }
   ],
   "source": [
    "image_paths = dt_labels['image']\n",
    "images = []\n",
    "for filename in os.listdir(\"./Dataset/Img\"):\n",
    "    img = cv2.imread(os.path.join(\"./Dataset/Img\",filename), 0)\n",
    "    if img is not None:\n",
    "        images.append(img)\n",
    "print(\"Loaded all images!\")\n",
    "train_X = np.array(images)\n",
    "train_X = tf.reshape(train_X, (550, 900 * 1200))\n",
    "train_X = tf.transpose(train_X)\n",
    "train_X = tf.math.divide(train_X, 255)\n",
    "print(train_X.shape)\n",
    "print(\"All the training set it's ready\")"
   ]
  },
  {
   "cell_type": "code",
   "execution_count": 5,
   "id": "0242d594",
   "metadata": {},
   "outputs": [
    {
     "name": "stdout",
     "output_type": "stream",
     "text": [
      "(9, 550)\n"
     ]
    }
   ],
   "source": [
    "train_Y = tf.one_hot(dt_labels['label'], 9)\n",
    "train_Y = tf.transpose(train_Y)\n",
    "print(train_Y.shape)"
   ]
  },
  {
   "cell_type": "code",
   "execution_count": 55,
   "id": "ee7bd78f",
   "metadata": {},
   "outputs": [],
   "source": [
    "def initialize_parameters(layers):\n",
    "    # Define He Initializer for ReLu activations and GlorotNormal for last unit that will be a sigmoid activation\n",
    "    initializerHe = tf.keras.initializers.HeNormal(seed=1)\n",
    "    initializerGn = tf.keras.initializers.GlorotNormal(seed=1)\n",
    "    \n",
    "    parameters = {}\n",
    "    dims = len(layers) - 1\n",
    "    \n",
    "    for i in range(1, dims):\n",
    "        parameters[\"W\" + str(i)] = tf.Variable(initializerHe(shape=(layers[i], layers[i-1])))\n",
    "        parameters[\"b\" + str(i)] = tf.Variable(initializerHe(shape=(layers[i], 1)))\n",
    "\n",
    "    parameters[\"W\" + str(dims)] = tf.Variable(initializerHe(shape=(layers[dims], layers[dims-1])))\n",
    "    parameters[\"b\" + str(dims)] = tf.Variable(initializerHe(shape=(layers[dims], 1)))\n",
    "    \n",
    "    return parameters"
   ]
  },
  {
   "cell_type": "code",
   "execution_count": 14,
   "id": "0c74a824",
   "metadata": {},
   "outputs": [
    {
     "name": "stdout",
     "output_type": "stream",
     "text": [
      "{'W1': <tf.Variable 'Variable:0' shape=(10, 1080000) dtype=float32, numpy=\n",
      "array([[ 0.06439073, -0.2506563 ,  0.32090592, ...,  0.8629949 ,\n",
      "         0.49437156, -0.00308718],\n",
      "       [-0.5990255 ,  0.7162178 ,  0.2655924 , ...,  0.4899503 ,\n",
      "        -0.01279758, -0.09620333],\n",
      "       [ 0.14524604, -0.8087496 ,  0.31340772, ..., -0.40917453,\n",
      "         0.15573189,  0.80618495],\n",
      "       ...,\n",
      "       [ 0.27263913, -0.27042505,  0.4345596 , ..., -0.7181348 ,\n",
      "         0.3809348 ,  0.2617215 ],\n",
      "       [-0.29920503, -0.60279155, -0.26285815, ..., -0.33375198,\n",
      "        -0.2870261 , -0.31720936],\n",
      "       [ 0.36877394, -0.67558473, -0.26388133, ...,  0.14851595,\n",
      "         0.9928093 , -0.7105205 ]], dtype=float32)>, 'b1': <tf.Variable 'Variable:0' shape=(10, 1) dtype=float32, numpy=\n",
      "array([[ 0.06439073],\n",
      "       [-0.2506563 ],\n",
      "       [ 0.32090592],\n",
      "       [-0.40106028],\n",
      "       [-0.46258327],\n",
      "       [-0.20294088],\n",
      "       [-0.0193803 ],\n",
      "       [ 0.23794131],\n",
      "       [-0.00762046],\n",
      "       [-0.71328866]], dtype=float32)>, 'W2': <tf.Variable 'Variable:0' shape=(9, 10) dtype=float32, numpy=\n",
      "array([[ 0.04671394, -0.18184519,  0.23280962, -0.2909597 , -0.33559316,\n",
      "        -0.14722879, -0.01405995,  0.17262077, -0.00552846, -0.51747394],\n",
      "       [ 0.63237095, -0.5082798 ,  0.1380362 ,  0.25178543, -0.07942823,\n",
      "        -0.19249283, -0.06151722, -0.21729587, -0.00324773, -0.07928258],\n",
      "       [ 0.10793477,  0.02418729, -0.06646862,  0.4336201 ,  0.25251925,\n",
      "         0.38480952,  0.09111322,  0.27153516,  0.01129688, -0.48920166],\n",
      "       [-0.06070077,  0.00744667,  0.19892555, -0.31483012, -0.11036719,\n",
      "        -0.14555523, -0.38902724, -0.31584328, -0.2158415 , -0.422533  ],\n",
      "       [ 0.59864146,  0.05957862,  0.20010233,  0.56946915,  0.26692763,\n",
      "        -0.11567836,  0.27677062, -0.26311502,  0.15462057, -0.14364406],\n",
      "       [ 0.1045305 ,  0.1797268 , -0.52826494, -0.19932495, -0.23534544,\n",
      "        -0.17425789,  0.11246105, -0.19612965, -0.45741406,  0.16513671],\n",
      "       [ 0.30581218,  0.19941163,  0.57571536, -0.04139411, -0.15780883,\n",
      "         0.39625588,  0.36290675, -0.16887675,  0.20530613, -0.55808187],\n",
      "       [-0.16110347, -0.16631453, -0.7021496 , -0.23152483, -0.0647022 ,\n",
      "        -0.16704445,  0.272536  , -0.18738627, -0.64479023,  0.10909917],\n",
      "       [-0.51669854, -0.08901042,  0.515376  ,  0.10368252,  0.72036904,\n",
      "        -0.02335634,  0.495064  ,  0.12811829,  0.25055093,  0.00511933]],\n",
      "      dtype=float32)>, 'b2': <tf.Variable 'Variable:0' shape=(9, 1) dtype=float32, numpy=\n",
      "array([[ 0.06439073],\n",
      "       [-0.2506563 ],\n",
      "       [ 0.32090592],\n",
      "       [-0.40106028],\n",
      "       [-0.46258327],\n",
      "       [-0.20294088],\n",
      "       [-0.0193803 ],\n",
      "       [ 0.23794131],\n",
      "       [-0.00762046]], dtype=float32)>}\n"
     ]
    }
   ],
   "source": [
    "parameters = initialize_parameters([1080000, 10, 9])\n",
    "print(parameters)"
   ]
  },
  {
   "cell_type": "code",
   "execution_count": 92,
   "id": "fd2f5f66",
   "metadata": {},
   "outputs": [],
   "source": [
    "def forward_propagation(X, parameters, layers):\n",
    "    dims = len(layers) - 1\n",
    "    \n",
    "    W1 = parameters[\"W1\"]\n",
    "    b1 = parameters[\"b1\"]\n",
    "    Z_temp = tf.math.add(tf.linalg.matmul(W1,X), b1)\n",
    "    A_temp = tf.keras.activations.relu(Z_temp)\n",
    "    \n",
    "    for i in range(2, dims):\n",
    "        Z_temp = tf.math.add(tf.linalg.matmul(parameters[\"W\" + str(i)],A_temp), parameters[\"b\" + str(i)])\n",
    "        A_temp = tf.keras.activations.relu(Z_temp)\n",
    "        \n",
    "    Z_temp = tf.math.add(tf.linalg.matmul(parameters[\"W\" + str(dims)],A_temp), parameters[\"b\" + str(dims)])\n",
    "    A_temp = tf.keras.activations.softmax(Z_temp)\n",
    "\n",
    "    return Z_temp"
   ]
  },
  {
   "cell_type": "code",
   "execution_count": 15,
   "id": "89d86074",
   "metadata": {},
   "outputs": [
    {
     "name": "stdout",
     "output_type": "stream",
     "text": [
      "tf.Tensor(\n",
      "[[ -30.359917  -82.569115  -73.53393  ...  -33.573727  -31.25817\n",
      "   -34.258476]\n",
      " [ -53.88803  -102.48489   -79.99532  ...  -51.18746     3.265846\n",
      "    83.364265]\n",
      " [ 214.89783   312.4315    124.74009  ...  210.12125   202.76048\n",
      "   172.09781 ]\n",
      " ...\n",
      " [ 456.16364   496.12894   332.47873  ...  387.84183   366.3716\n",
      "   257.62192 ]\n",
      " [-113.918236 -127.340294 -122.1096   ... -185.87344  -177.22052\n",
      "  -134.04996 ]\n",
      " [ 245.8759    166.85211   240.76164  ...  131.73451    60.47762\n",
      "  -102.7955  ]], shape=(9, 550), dtype=float32)\n"
     ]
    }
   ],
   "source": [
    "print(forward_propagation(train_X, parameters, [13, 10, 1]))"
   ]
  },
  {
   "cell_type": "code",
   "execution_count": 115,
   "id": "fa13cfdf",
   "metadata": {},
   "outputs": [],
   "source": [
    "def compute_cost(predicted_Y, true_Y):\n",
    "    cce = tf.keras.losses.CategoricalCrossentropy(from_logits=False)\n",
    "    return cce(true_Y, predicted_Y)"
   ]
  },
  {
   "cell_type": "code",
   "execution_count": 116,
   "id": "456af02e",
   "metadata": {},
   "outputs": [
    {
     "name": "stdout",
     "output_type": "stream",
     "text": [
      "tf.Tensor(0.8567131, shape=(), dtype=float32)\n"
     ]
    }
   ],
   "source": [
    "pred = tf.constant([[ 2.4048107,   5.0334096 ],\n",
    "             [-0.7921977,  -4.1523376 ],\n",
    "             [ 0.9447198,  -0.46802214],\n",
    "             [ 1.158121,    3.9810789 ],\n",
    "             [ 4.768706,    2.3220146 ],\n",
    "             [ 6.1481323,   3.909829  ]])\n",
    "true = tf.constant([[ 1,   0 ],\n",
    "             [1,  1 ],\n",
    "             [ 0,  0],\n",
    "             [ 0,    0 ],\n",
    "             [ 1,    1 ],\n",
    "             [ 1,   0  ]])\n",
    "print(compute_cost(pred, true))"
   ]
  },
  {
   "cell_type": "code",
   "execution_count": 20,
   "id": "9a0fa94f",
   "metadata": {},
   "outputs": [],
   "source": [
    "def model(X_train, Y_train, learning_rate = 0.0001, num_epochs = 1500, layers = [1], print_cost = True):\n",
    "    \n",
    "    # Save all the costs around the training\n",
    "    costs = []\n",
    "    \n",
    "    # Initialize the parameters\n",
    "    parameters = initialize_parameters(layers)\n",
    "    trainable_variables = []\n",
    "    for i in range(1, len(layers)-1):\n",
    "        trainable_variables.append(parameters[\"W\" + str(i)])\n",
    "        trainable_variables.append(parameters[\"b\" + str(i)])\n",
    "    # print(trainable_variables)\n",
    "    \n",
    "    # I want to use the Adam optimizer in my model, in my experience, it's very efficient\n",
    "    optimizer = tf.keras.optimizers.Adam(learning_rate)\n",
    "    for epoch in range(num_epochs):\n",
    "        with tf.GradientTape() as tape:\n",
    "            # Do the fordward propagation\n",
    "            Z3 = forward_propagation(X_train, parameters, layers)\n",
    "\n",
    "            # Compute the cost function\n",
    "            cost = compute_cost(Z3, Y_train)\n",
    "\n",
    "        grads = tape.gradient(cost, trainable_variables)\n",
    "        optimizer.apply_gradients(zip(grads, trainable_variables))\n",
    "\n",
    "        if print_cost == True and epoch % 10 == 0:\n",
    "            print (\"Cost after epoch %i: %f\" % (epoch, cost))\n",
    "\n",
    "        costs.append(cost)\n",
    "    \n",
    "    return parameters, costs"
   ]
  },
  {
   "cell_type": "code",
   "execution_count": 117,
   "id": "7ed737da",
   "metadata": {},
   "outputs": [
    {
     "name": "stdout",
     "output_type": "stream",
     "text": [
      "Cost after epoch 0: 364.736603\n",
      "Cost after epoch 10: 346.947388\n",
      "Cost after epoch 20: 346.799316\n",
      "Cost after epoch 30: 347.045441\n",
      "Cost after epoch 40: 347.004669\n"
     ]
    },
    {
     "data": {
      "image/png": "[encoded data removed]",
      "text/plain": [
       "<Figure size 432x288 with 1 Axes>"
      ]
     },
     "metadata": {
      "needs_background": "light"
     },
     "output_type": "display_data"
    }
   ],
   "source": [
    "num_epochsTrain = 50 #9500 #4500 #7200\n",
    "layers_train = [1080000, 25, 18, 9]\n",
    "parameters, costs = model(train_X, train_Y, learning_rate = 0.01, layers=layers_train , num_epochs = num_epochsTrain)\n",
    "plt.plot(np.arange(num_epochsTrain)+1, costs)\n",
    "plt.xlabel(\"Iterations(m)\")\n",
    "plt.ylabel(\"Cost function(J)\")\n",
    "plt.show()"
   ]
  },
  {
   "cell_type": "code",
   "execution_count": 34,
   "id": "2e5fe72a",
   "metadata": {},
   "outputs": [
    {
     "data": {
      "text/plain": [
       "<matplotlib.image.AxesImage at 0x2be39ebafd0>"
      ]
     },
     "execution_count": 34,
     "metadata": {},
     "output_type": "execute_result"
    },
    {
     "data": {
      "image/png": "[encoded data removed]",
      "text/plain": [
       "<Figure size 432x288 with 1 Axes>"
      ]
     },
     "metadata": {
      "needs_background": "light"
     },
     "output_type": "display_data"
    }
   ],
   "source": [
    "temp4 = train_X[:,0]\n",
    "temp4 = tf.reshape(temp4,(900, 1200))\n",
    "plt.gray()\n",
    "plt.imshow(temp4)"
   ]
  },
  {
   "cell_type": "code",
   "execution_count": 125,
   "id": "60f58aa1",
   "metadata": {},
   "outputs": [
    {
     "name": "stdout",
     "output_type": "stream",
     "text": [
      "(1080000, 550)\n",
      "tf.Tensor(\n",
      "[[1.]\n",
      " [1.]\n",
      " [1.]\n",
      " [1.]\n",
      " [1.]\n",
      " [1.]\n",
      " [1.]\n",
      " [1.]\n",
      " [1.]], shape=(9, 1), dtype=float32)\n"
     ]
    },
    {
     "data": {
      "image/png": "[encoded data removed]",
      "text/plain": [
       "<Figure size 432x288 with 1 Axes>"
      ]
     },
     "metadata": {
      "needs_background": "light"
     },
     "output_type": "display_data"
    }
   ],
   "source": [
    "test1 = train_X[:,340]\n",
    "print(train_X.shape)\n",
    "#print(tf.reshape(test1,(900, 1200)))\n",
    "#print(tf.reshape(test1,(900, 1200))[:,450])\n",
    "#plt.imshow(tf.reshape(test1,(900, 1200))[:,450])\n",
    "plt.imshow(tf.reshape(test1,(900, 1200)))\n",
    "test1 = tf.reshape(test1,(1080000,1))\n",
    "Ztest = forward_propagation(test1, parameters, layers_train)\n",
    "Ztest = tf.keras.activations.softmax(Ztest)\n",
    "print((Ztest))"
   ]
  },
  {
   "cell_type": "code",
   "execution_count": null,
   "id": "6c4f95ef",
   "metadata": {},
   "outputs": [],
   "source": []
  }
 ],
 "metadata": {
  "kernelspec": {
   "display_name": "Python 3",
   "language": "python",
   "name": "python3"
  },
  "language_info": {
   "codemirror_mode": {
    "name": "ipython",
    "version": 3
   },
   "file_extension": ".py",
   "mimetype": "text/x-python",
   "name": "python",
   "nbconvert_exporter": "python",
   "pygments_lexer": "ipython3",
   "version": "3.9.7"
  }
 },
 "nbformat": 4,
 "nbformat_minor": 5
}
