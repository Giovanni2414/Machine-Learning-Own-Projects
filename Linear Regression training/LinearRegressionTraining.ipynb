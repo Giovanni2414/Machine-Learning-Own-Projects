{
 "cells": [
  {
   "cell_type": "code",
   "execution_count": 368,
   "id": "b5fae017",
   "metadata": {},
   "outputs": [],
   "source": [
    "import numpy as np\n",
    "import pandas as pd\n",
    "import matplotlib.pyplot as plt\n",
    "import pylab"
   ]
  },
  {
   "cell_type": "code",
   "execution_count": 522,
   "id": "1d2923c5",
   "metadata": {},
   "outputs": [
    {
     "name": "stdout",
     "output_type": "stream",
     "text": [
      "      age  sex     bmi  children  smoker  region      charges\n",
      "0      19    1  27.900         0       1       1  16884.92400\n",
      "1      18    0  33.770         1       0       1   1725.55230\n",
      "2      28    0  33.000         3       0       1   4449.46200\n",
      "3      33    0  22.705         0       0       2  21984.47061\n",
      "4      32    0  28.880         0       0       2   3866.85520\n",
      "...   ...  ...     ...       ...     ...     ...          ...\n",
      "1328   23    1  24.225         2       0       3  22395.74424\n",
      "1329   52    0  38.600         2       0       1  10325.20600\n",
      "1330   57    1  25.740         2       0       1  12629.16560\n",
      "1331   23    1  33.400         0       0       1  10795.93733\n",
      "1332   52    1  44.700         3       0       1  11411.68500\n",
      "\n",
      "[1333 rows x 7 columns]\n"
     ]
    },
    {
     "data": {
      "image/png": "[encoded data removed]",
      "text/plain": [
       "<Figure size 432x288 with 1 Axes>"
      ]
     },
     "metadata": {
      "needs_background": "light"
     },
     "output_type": "display_data"
    }
   ],
   "source": [
    "dataset = pd.read_csv('insurance.csv')\n",
    "dataset = pd.DataFrame(dataset)\n",
    "print(dataset)\n",
    "plt.plot(dataset[\"age\"], dataset[\"bmi\"], \"ro\")\n",
    "pylab.xlabel(\"Ages\")\n",
    "pylab.ylabel(\"Bmi's\")\n",
    "pylab.xlim(17.5, 30)\n",
    "pylab.ylim(15, 30)\n",
    "pylab.title(\"Ages and Bmi's graph\")\n",
    "plt.show()\n",
    "y = dataset.values[:,6]\n",
    "y = np.array([y]).T\n",
    "dataset.drop('charges', inplace=True, axis=1)\n",
    "dataset.insert(0, \"bias\", 1)\n",
    "dataset = dataset.values\n",
    "max1 = max(dataset[:,1])\n",
    "max2 = max(dataset[:,3])\n",
    "dataset[:,1] = dataset[:,1] / max1\n",
    "dataset[:,3] = dataset[:,3] / max2"
   ]
  },
  {
   "cell_type": "code",
   "execution_count": 479,
   "id": "ad5aeec7",
   "metadata": {},
   "outputs": [],
   "source": [
    "theta_init = np.array([[1000],[1500],[1000],[2000],[1000],[2000],[2000]])"
   ]
  },
  {
   "cell_type": "code",
   "execution_count": 352,
   "id": "6d97c785",
   "metadata": {},
   "outputs": [],
   "source": [
    "def hypotesis(X, theta):\n",
    "    return np.dot(X, theta)"
   ]
  },
  {
   "cell_type": "code",
   "execution_count": 519,
   "id": "e5990093",
   "metadata": {},
   "outputs": [],
   "source": [
    "def costFunction(X, y, theta):\n",
    "    m = len(y)\n",
    "    return (1/(2*m))*sum((hypotesis(X, theta)[0] - y)**2)"
   ]
  },
  {
   "cell_type": "markdown",
   "id": "8f37eb3c",
   "metadata": {},
   "source": [
    "Sizes:\n",
    "    dataset(X) : 1329 x 7\n",
    "    theta : 7 x 1\n",
    "    hypotesisResult : 1329 x 1\n",
    "    7 * 1329 : 1329 * 1\n",
    "    hypotesisResult = 7 * 1"
   ]
  },
  {
   "cell_type": "code",
   "execution_count": 354,
   "id": "5e1f9c3c",
   "metadata": {},
   "outputs": [],
   "source": [
    "def training(X, y, theta, alpha, iterations):\n",
    "    J_history = np.zeros(iterations)\n",
    "    hypotesisResult = (hypotesis(X, theta))\n",
    "    m = len(y)\n",
    "    for iter in range(iterations):\n",
    "        theta = theta - (1/m) * alpha * (X.T.dot((hypotesisResult - y)))\n",
    "        J_history[iter] = costFunction(X, y, theta)\n",
    "    return J_history, theta"
   ]
  },
  {
   "cell_type": "code",
   "execution_count": 523,
   "id": "6c2ca8cf",
   "metadata": {
    "scrolled": false
   },
   "outputs": [],
   "source": [
    "J_history, fitTheta = training(dataset, y, theta_init, 0.009, 30)"
   ]
  },
  {
   "cell_type": "code",
   "execution_count": 524,
   "id": "af7957be",
   "metadata": {},
   "outputs": [
    {
     "data": {
      "image/png": "[encoded data removed]",
      "text/plain": [
       "<Figure size 432x288 with 1 Axes>"
      ]
     },
     "metadata": {
      "needs_background": "light"
     },
     "output_type": "display_data"
    },
    {
     "name": "stdout",
     "output_type": "stream",
     "text": [
      "Last value of J: 73337277.27812245\n",
      "Best value of J: 73337277.27812245\n",
      "Position: 29\n"
     ]
    }
   ],
   "source": [
    "iterationsPlt = 30\n",
    "pl.plot(np.arange(iterationsPlt)+1, J_history)\n",
    "pylab.xlabel(\"Iterations(m)\")\n",
    "pylab.ylabel(\"Cost function(J)\")\n",
    "pl.show()\n",
    "print(\"Last value of J: \" + str(J_history[iterationsPlt - 1]))\n",
    "print(\"Best value of J: \" + str(min(J_history)))\n",
    "print(\"Position: \" + str(np.argmin(J_history, axis=0)))"
   ]
  },
  {
   "cell_type": "code",
   "execution_count": 525,
   "id": "e034a421",
   "metadata": {},
   "outputs": [
    {
     "name": "stdout",
     "output_type": "stream",
     "text": [
      "14738.840747766368\n",
      "15733.315674241443\n",
      "10256.663286993387\n",
      "18829.7106339577\n",
      "17637.160292195535\n"
     ]
    }
   ],
   "source": [
    "print(hypotesis(np.array([1,52/max1,0,38.6/max2,2,0,1]) ,fitTheta)[0])\n",
    "print(hypotesis(np.array([1,57/max1,1,25.74/max2,2,0,1]) ,fitTheta)[0])\n",
    "print(hypotesis(np.array([1,23/max1,1,33.4/max2,0,0,1]) ,fitTheta)[0])\n",
    "print(hypotesis(np.array([1,52/max1,1,44.7/max2,3,0,1]) ,fitTheta)[0])\n",
    "print(hypotesis(np.array([1,18/max1,1,31.92/max2,0,0,3]) ,fitTheta)[0])"
   ]
  },
  {
   "cell_type": "code",
   "execution_count": 526,
   "id": "5593d817",
   "metadata": {},
   "outputs": [
    {
     "name": "stdout",
     "output_type": "stream",
     "text": [
      "[[2284.79186455]\n",
      " [2476.31502157]\n",
      " [1483.40089897]\n",
      " [2819.22852871]\n",
      " [2283.78568165]\n",
      " [3220.3824463 ]\n",
      " [3826.2460575 ]]\n"
     ]
    }
   ],
   "source": [
    "print(fitTheta)"
   ]
  },
  {
   "cell_type": "code",
   "execution_count": null,
   "id": "209135e6",
   "metadata": {},
   "outputs": [],
   "source": []
  }
 ],
 "metadata": {
  "kernelspec": {
   "display_name": "Python 3",
   "language": "python",
   "name": "python3"
  },
  "language_info": {
   "codemirror_mode": {
    "name": "ipython",
    "version": 3
   },
   "file_extension": ".py",
   "mimetype": "text/x-python",
   "name": "python",
   "nbconvert_exporter": "python",
   "pygments_lexer": "ipython3",
   "version": "3.8.8"
  }
 },
 "nbformat": 4,
 "nbformat_minor": 5
}
