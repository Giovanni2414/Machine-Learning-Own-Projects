{
 "cells": [
  {
   "cell_type": "code",
   "execution_count": 86,
   "id": "8d9c2cfd",
   "metadata": {},
   "outputs": [],
   "source": [
    "import numpy as np\n",
    "import pandas as pd\n",
    "import matplotlib.pyplot as plt\n",
    "import pylab"
   ]
  },
  {
   "cell_type": "markdown",
   "id": "2af7cf56",
   "metadata": {},
   "source": [
    "### Load the data into the csv file called 'heart'"
   ]
  },
  {
   "cell_type": "code",
   "execution_count": 87,
   "id": "9c9031ff",
   "metadata": {},
   "outputs": [
    {
     "name": "stdout",
     "output_type": "stream",
     "text": [
      "     bias  age  sex  cp  trestbps  chol  fbs  restecg  thalach  exang  \\\n",
      "0       1   63    1   3       145   233    1        0      150      0   \n",
      "1       1   37    1   2       130   250    0        1      187      0   \n",
      "2       1   41    0   1       130   204    0        0      172      0   \n",
      "3       1   56    1   1       120   236    0        1      178      0   \n",
      "4       1   57    0   0       120   354    0        1      163      1   \n",
      "..    ...  ...  ...  ..       ...   ...  ...      ...      ...    ...   \n",
      "294     1   63    0   0       124   197    0        1      136      1   \n",
      "295     1   59    1   0       164   176    1        0       90      0   \n",
      "296     1   57    0   0       140   241    0        1      123      1   \n",
      "297     1   45    1   3       110   264    0        1      132      0   \n",
      "298     1   57    0   1       130   236    0        0      174      0   \n",
      "\n",
      "     oldpeak  slope  ca  thal  \n",
      "0        2.3      0   0     1  \n",
      "1        3.5      0   0     2  \n",
      "2        1.4      2   0     2  \n",
      "3        0.8      2   0     2  \n",
      "4        0.6      2   0     2  \n",
      "..       ...    ...  ..   ...  \n",
      "294      0.0      1   0     2  \n",
      "295      1.0      1   2     1  \n",
      "296      0.2      1   0     3  \n",
      "297      1.2      1   0     3  \n",
      "298      0.0      1   1     2  \n",
      "\n",
      "[299 rows x 14 columns]\n"
     ]
    }
   ],
   "source": [
    "dataset = pd.read_csv('heart.csv')\n",
    "y = dataset.values[:,13]\n",
    "y = np.array([y]).T\n",
    "dataset.drop('target', inplace=True, axis=1)\n",
    "dataset.insert(0, \"bias\", 1)\n",
    "X = dataset.values\n",
    "max1 = max(X[:,1])\n",
    "max2 = max(X[:,4])\n",
    "max3 = max(X[:,5])\n",
    "max4 = max(X[:,8])\n",
    "X[:,1] = X[:,1] / max1\n",
    "X[:,4] = X[:,4] / max2\n",
    "X[:,5] = X[:,5] / max3\n",
    "X[:,8] = X[:,8] / max4\n",
    "print(dataset)"
   ]
  },
  {
   "cell_type": "code",
   "execution_count": 88,
   "id": "f333ee60",
   "metadata": {},
   "outputs": [
    {
     "data": {
      "image/png": "[encoded data removed]",
      "text/plain": [
       "<Figure size 432x288 with 1 Axes>"
      ]
     },
     "metadata": {
      "needs_background": "light"
     },
     "output_type": "display_data"
    }
   ],
   "source": [
    "for i in range(len(y)):\n",
    "    if y[i] == 1:\n",
    "        c = 'k'\n",
    "    else:\n",
    "        c = 'g'\n",
    "    plt.scatter(X[i,5], X[i,8], color=c)\n",
    "plt.show()"
   ]
  },
  {
   "cell_type": "markdown",
   "id": "6f5579f3",
   "metadata": {},
   "source": [
    "### Random initialization of parameters Theta 'coefficients'"
   ]
  },
  {
   "cell_type": "code",
   "execution_count": 89,
   "id": "78d89e71",
   "metadata": {},
   "outputs": [],
   "source": [
    "theta_init = np.array([[1],[2],[2],[2],[2],[2],[2],[2],[2],[2],[2],[2],[2],[2],])"
   ]
  },
  {
   "cell_type": "markdown",
   "id": "a34d7064",
   "metadata": {},
   "source": [
    "### Make the function of our hypotesis, this is an example of Logistic Regression, then, our hypotesis will be based on the Sigmoid function"
   ]
  },
  {
   "cell_type": "code",
   "execution_count": 90,
   "id": "43140802",
   "metadata": {},
   "outputs": [],
   "source": [
    "def hypotesis(X, theta):\n",
    "    z = np.dot(X, theta)\n",
    "    return 1/(1 + np.exp(-z))"
   ]
  },
  {
   "cell_type": "markdown",
   "id": "118cdfa1",
   "metadata": {},
   "source": [
    "### Build the cost funcion, this functions will be pretty similar with the Cost Function in Linear Regression to calculate the squared error"
   ]
  },
  {
   "cell_type": "code",
   "execution_count": 91,
   "id": "eb746d98",
   "metadata": {},
   "outputs": [],
   "source": [
    "def costFunction(X, y, theta):\n",
    "    m = len(y)\n",
    "    predictions = hypotesis(X, theta)\n",
    "    error = (-y * np.log(predictions)) - ((1-y)*np.log(1-predictions))\n",
    "    cost = 1/m * sum(error)\n",
    "    return cost"
   ]
  },
  {
   "cell_type": "markdown",
   "id": "923102a2",
   "metadata": {},
   "source": [
    "### Now i build the training function, this function will iterate determinated times and, with each iteration, will use the Gradient Descent Algorithm to find the local minima or, in the best case, the global minimun point and, it save the new calculated Cost with the new coefficients or \"Theta\" to have an history of them and monitor the behavior of the function"
   ]
  },
  {
   "cell_type": "code",
   "execution_count": 92,
   "id": "a669ca2c",
   "metadata": {},
   "outputs": [],
   "source": [
    "def training(X, y, theta, alpha, iterations):\n",
    "    J_history = np.zeros(iterations)\n",
    "    m = len(y)\n",
    "    hypotesisResult = hypotesis(X, theta)\n",
    "    for it_fit in range(iterations):\n",
    "        theta = theta - (1/m) * alpha * (X.T.dot((hypotesisResult - y)))\n",
    "        J_history[it_fit] = costFunction(X, y, theta)\n",
    "    return J_history, theta"
   ]
  },
  {
   "cell_type": "markdown",
   "id": "a9eb1942",
   "metadata": {},
   "source": [
    "### Fit the model with 34 iterations and a learning rate (alpha) or 0.1"
   ]
  },
  {
   "cell_type": "code",
   "execution_count": 93,
   "id": "e3bffc36",
   "metadata": {},
   "outputs": [],
   "source": [
    "J_history, fitTheta = training(X, y, theta_init, 0.1, 34)"
   ]
  },
  {
   "cell_type": "markdown",
   "id": "a58b0c7a",
   "metadata": {},
   "source": [
    "### A graph representation of what is happening with the Cost Function or Squared Error in each iteration as you can see, the Cost function is decreasing in each iteration until reach a point below, our Training model are working successfully"
   ]
  },
  {
   "cell_type": "code",
   "execution_count": 94,
   "id": "ec6f7c03",
   "metadata": {},
   "outputs": [
    {
     "data": {
      "image/png": "[encoded data removed]",
      "text/plain": [
       "<Figure size 432x288 with 1 Axes>"
      ]
     },
     "metadata": {
      "needs_background": "light"
     },
     "output_type": "display_data"
    },
    {
     "name": "stdout",
     "output_type": "stream",
     "text": [
      "Last value of J: 0.6746697324702233\n",
      "Best value of J: 0.6746697324702233\n",
      "Position: 33\n"
     ]
    }
   ],
   "source": [
    "iterationsPlt = 34\n",
    "pl.plot(np.arange(iterationsPlt)+1, J_history)\n",
    "pylab.xlabel(\"Iterations(m)\")\n",
    "pylab.ylabel(\"Cost function(J)\")\n",
    "pl.show()\n",
    "print(\"Last value of J: \" + str(J_history[iterationsPlt - 1]))\n",
    "print(\"Best value of J: \" + str(min(J_history)))\n",
    "print(\"Position: \" + str(np.argmin(J_history, axis=0)))"
   ]
  },
  {
   "cell_type": "markdown",
   "id": "c1b701e6",
   "metadata": {},
   "source": [
    "### Now, the final veredict, we have here four test examples, the correct answer of those are [1, 0, 1, 0], and now, will use the parameters Theta or \"Coefficients\" to make the predictions"
   ]
  },
  {
   "cell_type": "code",
   "execution_count": 96,
   "id": "75400800",
   "metadata": {},
   "outputs": [
    {
     "name": "stdout",
     "output_type": "stream",
     "text": [
      "[1, 0, 1, 0]\n"
     ]
    }
   ],
   "source": [
    "t1 = round(hypotesis(np.array([1,38/max1,1,2,138/max2,175/max3,0,1,173/max4,0,0,2,4,2]), fitTheta)[0])\n",
    "t2 = round(hypotesis(np.array([1,68/max1,1,0,144/max2,193/max3,1,1,141/max4,0,3.4,1,2,3]), fitTheta)[0])\n",
    "t3 = round(hypotesis(np.array([1,38/max1,1,2,138/max2,175/max3,0,1,173/max4,0,0,2,4,2]), fitTheta)[0])\n",
    "t4 = round(hypotesis(np.array([1,57/max1,1,0,130/max2,131/max3,0,1,115/max4,1,1.2,1,1,3]), fitTheta)[0])\n",
    "print([t1, t2, t3, t4])"
   ]
  },
  {
   "cell_type": "markdown",
   "id": "921225cb",
   "metadata": {},
   "source": [
    "### And now, as you can see, the answer is correct and our algorithm (model) can predict other test examples with a good precision"
   ]
  },
  {
   "cell_type": "code",
   "execution_count": null,
   "id": "203fd1b9",
   "metadata": {},
   "outputs": [],
   "source": []
  }
 ],
 "metadata": {
  "kernelspec": {
   "display_name": "Python 3",
   "language": "python",
   "name": "python3"
  },
  "language_info": {
   "codemirror_mode": {
    "name": "ipython",
    "version": 3
   },
   "file_extension": ".py",
   "mimetype": "text/x-python",
   "name": "python",
   "nbconvert_exporter": "python",
   "pygments_lexer": "ipython3",
   "version": "3.8.8"
  }
 },
 "nbformat": 4,
 "nbformat_minor": 5
}
