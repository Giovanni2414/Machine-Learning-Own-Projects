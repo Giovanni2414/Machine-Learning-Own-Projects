{
 "cells": [
  {
   "cell_type": "code",
   "execution_count": 112,
   "id": "dc0ced87",
   "metadata": {},
   "outputs": [],
   "source": [
    "import numpy as np\n",
    "import pandas as pd\n",
    "import matplotlib.pyplot as plt\n",
    "import pylab"
   ]
  },
  {
   "cell_type": "code",
   "execution_count": 143,
   "id": "4acb7640",
   "metadata": {},
   "outputs": [
    {
     "name": "stdout",
     "output_type": "stream",
     "text": [
      "(1, 208)\n",
      "(13, 208)\n",
      "     age  sex  cp  trestbps  chol  fbs  restecg  thalach  exang  oldpeak  \\\n",
      "0     59    0   0       174   249    0        1      143      1      0.0   \n",
      "1     64    1   0       145   212    0        0      132      0      2.0   \n",
      "2     57    1   0       152   274    0        1       88      1      1.2   \n",
      "3     56    1   0       132   184    0        0      105      1      2.1   \n",
      "4     48    1   0       124   274    0        0      166      0      0.5   \n",
      "..   ...  ...  ..       ...   ...  ...      ...      ...    ...      ...   \n",
      "203   52    1   0       128   255    0        1      161      1      0.0   \n",
      "204   59    1   0       110   239    0        0      142      1      1.2   \n",
      "205   60    0   0       150   258    0        0      157      0      2.6   \n",
      "206   49    1   2       120   188    0        1      139      0      2.0   \n",
      "207   59    1   0       140   177    0        1      162      1      0.0   \n",
      "\n",
      "     slope  ca  thal  \n",
      "0        1   0     2  \n",
      "1        1   2     1  \n",
      "2        1   1     3  \n",
      "3        1   1     1  \n",
      "4        1   0     3  \n",
      "..     ...  ..   ...  \n",
      "203      2   1     3  \n",
      "204      1   1     3  \n",
      "205      1   2     3  \n",
      "206      1   3     3  \n",
      "207      2   1     3  \n",
      "\n",
      "[208 rows x 13 columns]\n"
     ]
    }
   ],
   "source": [
    "dataset = pd.read_csv('Dataset.csv')\n",
    "y = dataset.values[:,13]\n",
    "y = (np.array([y]).T).T\n",
    "dataset.drop('target', inplace=True, axis=1)\n",
    "X = dataset.values\n",
    "X = X.T\n",
    "max1 = max(X[:,1])\n",
    "max2 = max(X[:,4])\n",
    "max3 = max(X[:,5])\n",
    "max4 = max(X[:,8])\n",
    "X[:,1] = X[:,1] / max1\n",
    "X[:,4] = X[:,4] / max2\n",
    "X[:,5] = X[:,5] / max3\n",
    "X[:,8] = X[:,8] / max4\n",
    "print(y.shape)\n",
    "print(X.shape)\n",
    "print(dataset)"
   ]
  },
  {
   "cell_type": "code",
   "execution_count": 61,
   "id": "2b57a92c",
   "metadata": {},
   "outputs": [],
   "source": [
    "def initialize_parameters_deep(layer_dims):\n",
    "    \n",
    "    \"\"\"\n",
    "    Arguments: layer_dims: A python tuple with the lenghts of each layer in the network\n",
    "    \"\"\"\n",
    "    \"\"\"\n",
    "    Returns: parameters: A dictionary with the weights and bias vectors\n",
    "    \"\"\"\n",
    "    np.random.seed(3)\n",
    "    parameters = {}\n",
    "    L = len(layer_dims)\n",
    "    \n",
    "    for l in range(1,L):\n",
    "        parameters[\"W\" + str(l)] = np.random.randn(layer_dims[l], layer_dims[l-1]) * 0.01\n",
    "        parameters[\"b\" + str(l)] = np.zeros((layer_dims[l], 1))\n",
    "                                                    \n",
    "    return parameters"
   ]
  },
  {
   "cell_type": "code",
   "execution_count": 62,
   "id": "c5f8cba0",
   "metadata": {},
   "outputs": [],
   "source": [
    "def linear_forward(A, W, b):\n",
    "    Z = np.dot(W, A) + b\n",
    "    cache = (A, W, b)\n",
    "    return Z, cache"
   ]
  },
  {
   "cell_type": "code",
   "execution_count": 63,
   "id": "15634854",
   "metadata": {},
   "outputs": [],
   "source": [
    "def tanh(z):\n",
    "    cache = z\n",
    "    A = np.tanh(z)\n",
    "    return A, cache"
   ]
  },
  {
   "cell_type": "code",
   "execution_count": 64,
   "id": "a975086d",
   "metadata": {},
   "outputs": [],
   "source": [
    "def sigmoid(z):\n",
    "    cache = z\n",
    "    A = 1/(1 + np.exp(-z))\n",
    "    return A, cache"
   ]
  },
  {
   "cell_type": "code",
   "execution_count": 65,
   "id": "71a3b73f",
   "metadata": {},
   "outputs": [],
   "source": [
    "def linear_activation_forward(A_prev, W, b, activation):\n",
    "    if activation == \"sigmoid\":\n",
    "        Z, linear_cache = linear_forward(A_prev, W, b)\n",
    "        A, activation_cache = sigmoid(Z)\n",
    "    elif activation == \"tanh\":\n",
    "        Z, linear_cache = linear_forward(A_prev, W, b)\n",
    "        A, activation_cache = tanh(Z)\n",
    "    cache = (linear_cache, activation_cache)\n",
    "    return A, cache"
   ]
  },
  {
   "cell_type": "code",
   "execution_count": 76,
   "id": "98524bc0",
   "metadata": {},
   "outputs": [],
   "source": [
    "def L_model_forward(X, parameters):\n",
    "    caches = []\n",
    "    A = X\n",
    "    L = len(parameters) // 2\n",
    "    for l in range(1, L):\n",
    "        A_prev = A \n",
    "        A, cache = linear_activation_forward(A_prev, parameters[\"W\" + str(l)], parameters[\"b\" + str(l)], \"tanh\")\n",
    "        caches.append(cache)\n",
    "    AL, cache = linear_activation_forward(A, parameters[\"W\" + str(L)], parameters[\"b\" + str(L)], \"sigmoid\")\n",
    "    caches.append(cache)\n",
    "    return AL, caches"
   ]
  },
  {
   "cell_type": "code",
   "execution_count": 67,
   "id": "60244578",
   "metadata": {},
   "outputs": [],
   "source": [
    "def compute_cost(AL, Y):\n",
    "    m = Y.shape[1]\n",
    "    step1 = np.dot(Y,np.log(AL).T) \n",
    "    step2 = 1 - Y\n",
    "    step3 = np.log(1 - AL)\n",
    "    step4 = np.dot(step2, step3.T)\n",
    "    cost = -(1/m)*(np.sum(np.sum(step1 + step4)))\n",
    "    cost = np.squeeze(cost)\n",
    "    return cost"
   ]
  },
  {
   "cell_type": "code",
   "execution_count": 68,
   "id": "ab83703c",
   "metadata": {},
   "outputs": [],
   "source": [
    "def linear_backward(dZ, cache):\n",
    "    A_prev, W, b = cache\n",
    "    m = A_prev.shape[1]\n",
    "    dW = (1/m) * np.dot(dZ, A_prev.T)\n",
    "    db = (1/m)*(np.sum(dZ, axis=1, keepdims=True))\n",
    "    dA_prev = np.dot(W.T, dZ)\n",
    "    return dA_prev, dW, db"
   ]
  },
  {
   "cell_type": "code",
   "execution_count": 69,
   "id": "01a66003",
   "metadata": {},
   "outputs": [],
   "source": [
    "def sigmoid_backward(dA, cache):\n",
    "    Z = cache\n",
    "    s = 1/(1+np.exp(-Z))\n",
    "    dZ = dA * s * (1-s)\n",
    "    return dZ"
   ]
  },
  {
   "cell_type": "code",
   "execution_count": 70,
   "id": "99cbd10b",
   "metadata": {},
   "outputs": [],
   "source": [
    "def tanh_backward(dA, cache):\n",
    "    Z = cache\n",
    "    s = 1 - (np.tanh(Z)**2)\n",
    "    dZ = dA * s * (1-s)\n",
    "    return dZ"
   ]
  },
  {
   "cell_type": "code",
   "execution_count": 71,
   "id": "d467ea7f",
   "metadata": {},
   "outputs": [],
   "source": [
    "def linear_activation_backward(dA, cache, activation):\n",
    "    linear_cache, activation_cache = cache\n",
    "    if activation == \"sigmoid\":\n",
    "        dZ = sigmoid_backward(dA, activation_cache)\n",
    "        dA_prev, dW, db = linear_backward(dZ, linear_cache)    \n",
    "    elif activation == \"tanh\":\n",
    "        dZ = tanh_backward(dA, activation_cache)\n",
    "        dA_prev, dW, db = linear_backward(dZ, linear_cache)\n",
    "    return dA_prev, dW, db"
   ]
  },
  {
   "cell_type": "code",
   "execution_count": 78,
   "id": "c9a2d17f",
   "metadata": {},
   "outputs": [],
   "source": [
    "def L_model_backward(AL, Y, caches):\n",
    "    grads = {}\n",
    "    L = len(caches)\n",
    "    m = AL.shape[1]\n",
    "    Y = Y.reshape(AL.shape)\n",
    "    dAL = - (np.divide(Y, AL) - np.divide(1 - Y, 1 - AL))\n",
    "    current_cache = caches[L-1]\n",
    "    dA_prev_temp, dW_temp, db_temp = linear_activation_backward(dAL, current_cache, \"sigmoid\")\n",
    "    grads[\"dA\" + str(L-1)] = dA_prev_temp\n",
    "    grads[\"dW\" + str(L)] = dW_temp\n",
    "    grads[\"db\" + str(L)] = db_temp\n",
    "    for l in reversed(range(L-1)):\n",
    "        current_cache = caches[l]\n",
    "        dA_prev_temp, dW_temp, db_temp = linear_activation_backward(dA_prev_temp, current_cache, \"tanh\")\n",
    "        grads[\"dA\" + str(l)] = dA_prev_temp\n",
    "        grads[\"dW\" + str(l + 1)] = dW_temp\n",
    "        grads[\"db\" + str(l + 1)] = db_temp\n",
    "    return grads"
   ]
  },
  {
   "cell_type": "code",
   "execution_count": 73,
   "id": "e1d96eeb",
   "metadata": {},
   "outputs": [],
   "source": [
    "def update_parameters(params, grads, learning_rate):\n",
    "    parameters = params.copy()\n",
    "    L = len(parameters) // 2\n",
    "    for l in range(L):\n",
    "        parameters[\"W\" + str(l+1)] = parameters[\"W\" + str(l + 1)] - learning_rate * grads[\"dW\" + str(l + 1)]\n",
    "        parameters[\"b\" + str(l+1)] = parameters[\"b\" + str(l + 1)] - learning_rate * grads[\"db\" + str(l + 1)]\n",
    "    return parameters"
   ]
  },
  {
   "cell_type": "code",
   "execution_count": 74,
   "id": "61603504",
   "metadata": {},
   "outputs": [],
   "source": [
    "def L_layer_model(X, Y, layers_dims, learning_rate = 0.0075, num_iterations = 3000, print_cost=False):\n",
    "    np.random.seed(1)\n",
    "    costs = []\n",
    "    parameters = initialize_parameters_deep(layers_dims)\n",
    "    for i in range(0, num_iterations):\n",
    "        AL, caches = L_model_forward(X, parameters)\n",
    "        cost = compute_cost(AL, Y)\n",
    "        grads = L_model_backward(AL, Y, caches)\n",
    "        parameters = update_parameters(parameters, grads, learning_rate)\n",
    "        if print_cost and i % 100 == 0 or i == num_iterations - 1:\n",
    "            print(\"Cost after iteration {}: {}\".format(i, np.squeeze(cost)))\n",
    "        if i % 100 == 0 or i == num_iterations:\n",
    "            costs.append(cost)\n",
    "    \n",
    "    return parameters, costs"
   ]
  },
  {
   "cell_type": "code",
   "execution_count": 210,
   "id": "dcfb5233",
   "metadata": {
    "scrolled": false
   },
   "outputs": [
    {
     "name": "stdout",
     "output_type": "stream",
     "text": [
      "Cost after iteration 0: 0.6976963715126854\n",
      "Cost after iteration 100: 0.6269009466023588\n",
      "Cost after iteration 200: 0.5996348837548797\n",
      "Cost after iteration 300: 0.6073160737634364\n",
      "Cost after iteration 400: 0.5969513333505058\n",
      "Cost after iteration 500: 0.5911473197895359\n",
      "Cost after iteration 600: 0.582771194290387\n",
      "Cost after iteration 700: 0.5859056257595938\n",
      "Cost after iteration 800: 0.5779160404139603\n",
      "Cost after iteration 900: 0.56928061659698\n",
      "Cost after iteration 1000: 0.5676121408035646\n",
      "Cost after iteration 1100: 0.5649623409853318\n",
      "Cost after iteration 1200: 0.5656219993599649\n",
      "Cost after iteration 1300: 0.5849261538609956\n",
      "Cost after iteration 1400: 0.5716221343509176\n",
      "Cost after iteration 1500: 0.556965381956758\n",
      "Cost after iteration 1600: 0.578239112248849\n",
      "Cost after iteration 1700: 0.5592142146416604\n",
      "Cost after iteration 1800: 0.5575219979368725\n",
      "Cost after iteration 1900: 0.5552325161618631\n",
      "Cost after iteration 1999: 0.5597831913293184\n"
     ]
    },
    {
     "data": {
      "image/png": "[encoded data removed]",
      "text/plain": [
       "<Figure size 432x288 with 1 Axes>"
      ]
     },
     "metadata": {
      "needs_background": "light"
     },
     "output_type": "display_data"
    },
    {
     "name": "stdout",
     "output_type": "stream",
     "text": [
      "Last value of J: 0.5552325161618631\n",
      "Best value of J: 0.5552325161618631\n",
      "Position: 19\n"
     ]
    }
   ],
   "source": [
    "layers_dims = [13, 50, 1]\n",
    "num_iterations2 = 2000\n",
    "parameters, costs = L_layer_model(X, y, layers_dims, learning_rate = 0.015, num_iterations = num_iterations2, print_cost = True)\n",
    "iterationsPlt = num_iterations2/100\n",
    "plt.plot(np.arange(iterationsPlt)+1, costs)\n",
    "pylab.xlabel(\"Iterations(m)\")\n",
    "pylab.ylabel(\"Cost function(J)\")\n",
    "plt.show()\n",
    "print(\"Last value of J: \" + str(costs[round(iterationsPlt - 1)]))\n",
    "print(\"Best value of J: \" + str(min(costs)))\n",
    "print(\"Position: \" + str(np.argmin(costs, axis=0)))"
   ]
  },
  {
   "cell_type": "code",
   "execution_count": 200,
   "id": "e5fd9d89",
   "metadata": {},
   "outputs": [],
   "source": [
    "dataset_test = pd.read_csv('DatasetTesting2.csv', error_bad_lines=False)\n",
    "y_test = dataset_test.values[:,13]\n",
    "y_test = (np.array([y_test]).T).T\n",
    "dataset_test.drop('target', inplace=True, axis=1)\n",
    "X_test = dataset_test.values\n",
    "X_test = X_test.T\n",
    "max1 = max(X[:,1])\n",
    "max2 = max(X[:,4])\n",
    "max3 = max(X[:,5])\n",
    "max4 = max(X[:,8])\n",
    "X_test[:,1] = X_test[:,1] / max1\n",
    "X_test[:,4] = X_test[:,4] / max2\n",
    "X_test[:,5] = X_test[:,5] / max3\n",
    "X_test[:,8] = X_test[:,8] / max4"
   ]
  },
  {
   "cell_type": "code",
   "execution_count": 211,
   "id": "b67281bd",
   "metadata": {},
   "outputs": [
    {
     "name": "stdout",
     "output_type": "stream",
     "text": [
      "Correct Predictions: 59\n",
      "[[1. 1. 1. 1. 1. 1. 0. 1. 0. 1. 0. 0. 0. 0. 0. 0. 0. 1. 1. 0. 1. 0. 1. 0.\n",
      "  1. 0. 1. 0. 0. 1. 1. 0. 1. 0. 1. 0. 0. 0. 0. 0. 1. 1. 1. 0. 0. 1. 1. 0.\n",
      "  0. 1. 0. 0. 1. 1. 1. 1. 0. 0. 1. 1. 1. 1. 1. 0. 1. 1. 1. 0. 0. 0. 1. 1.\n",
      "  0. 1. 0. 1. 1. 1. 1. 1. 1. 0. 0. 1. 1. 1. 1. 1. 1. 1. 1.]]\n"
     ]
    }
   ],
   "source": [
    "predictResult, cache = L_model_forward(X_test, parameters)\n",
    "# predictResult2, cache2 = L_model_forward(X, parameters)\n",
    "# print(np.round(predictResult) == y_test)\n",
    "count = 0\n",
    "for x in range(0,len(np.round(predictResult)[0])):\n",
    "    if(np.round(predictResult)[0,x]) == y_test[0,x]:\n",
    "        count = count + 1\n",
    "print(\"Correct Predictions: \" + str(count))\n",
    "print(np.round(predictResult))\n",
    "#print(np.round(predictResult2) == y)"
   ]
  },
  {
   "cell_type": "code",
   "execution_count": null,
   "id": "db51cfb4",
   "metadata": {},
   "outputs": [],
   "source": []
  }
 ],
 "metadata": {
  "kernelspec": {
   "display_name": "Python 3",
   "language": "python",
   "name": "python3"
  },
  "language_info": {
   "codemirror_mode": {
    "name": "ipython",
    "version": 3
   },
   "file_extension": ".py",
   "mimetype": "text/x-python",
   "name": "python",
   "nbconvert_exporter": "python",
   "pygments_lexer": "ipython3",
   "version": "3.9.7"
  }
 },
 "nbformat": 4,
 "nbformat_minor": 5
}
